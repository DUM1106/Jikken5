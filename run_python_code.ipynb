{
 "cells": [
  {
   "cell_type": "markdown",
   "metadata": {
    "id": "TxHb4KGqW0kd"
   },
   "source": [
    "Google Driveを使えるようにする"
   ]
  },
  {
   "cell_type": "code",
   "execution_count": 1,
   "metadata": {
    "id": "OgQBzkppWzF-"
   },
   "outputs": [],
   "source": [
    "from google.colab import drive"
   ]
  },
  {
   "cell_type": "code",
   "execution_count": 2,
   "metadata": {
    "colab": {
     "base_uri": "https://localhost:8080/"
    },
    "id": "x69n9V55sztq",
    "outputId": "53327992-ee2b-4271-dbb5-6614742ab656"
   },
   "outputs": [
    {
     "output_type": "stream",
     "name": "stdout",
     "text": [
      "Mounted at /content/drive\n"
     ]
    }
   ],
   "source": [
    "drive.mount('/content/drive',  force_remount=True)"
   ]
  },
  {
   "cell_type": "markdown",
   "metadata": {
    "id": "pbiUq94bXFOO"
   },
   "source": [
    "カレントディレクトリを確認する"
   ]
  },
  {
   "cell_type": "code",
   "execution_count": null,
   "metadata": {
    "colab": {
     "base_uri": "https://localhost:8080/",
     "height": 35
    },
    "id": "f3SX7-qOWXlJ",
    "outputId": "3c491467-b625-4ab2-9e66-3d153ec6c437"
   },
   "outputs": [
    {
     "output_type": "execute_result",
     "data": {
      "text/plain": [
       "'/content'"
      ],
      "application/vnd.google.colaboratory.intrinsic+json": {
       "type": "string"
      }
     },
     "metadata": {},
     "execution_count": 3
    }
   ],
   "source": [
    "pwd"
   ]
  },
  {
   "cell_type": "markdown",
   "metadata": {
    "id": "n5fr5CkzW8nV"
   },
   "source": [
    "対象のディレクトリに移動する（\"/content/drive/My Drive/\" があなたのドライブのホームディレクトリ）\n",
    "\n",
    "この例の場合，ホームにAI_Experimentというフォルダを作り，その下にダウンロードしたフォルダを配置している"
   ]
  },
  {
   "cell_type": "code",
   "execution_count": 3,
   "metadata": {
    "colab": {
     "base_uri": "https://localhost:8080/"
    },
    "id": "oD7f7_lOs18H",
    "outputId": "6d346f13-9b48-48ba-b21e-9c6f34629f20"
   },
   "outputs": [
    {
     "output_type": "stream",
     "name": "stdout",
     "text": [
      "/content/drive/My Drive/AI_Experiment/Jikken5\n"
     ]
    }
   ],
   "source": [
    "cd /content/drive/My Drive/AI_Experiment/Jikken5"
   ]
  },
  {
   "cell_type": "code",
   "execution_count": null,
   "metadata": {
    "id": "Vnx69X3htCqt",
    "colab": {
     "base_uri": "https://localhost:8080/"
    },
    "outputId": "bb8b2599-375d-4824-f03c-06a8ba96f3ad"
   },
   "outputs": [
    {
     "output_type": "stream",
     "name": "stdout",
     "text": [
      "\u001B[0m\u001B[01;34mJikken5\u001B[0m/\n"
     ]
    }
   ],
   "source": [
    "ls"
   ]
  },
  {
   "cell_type": "code",
   "execution_count": null,
   "metadata": {
    "colab": {
     "base_uri": "https://localhost:8080/"
    },
    "id": "s1rpe7vFugDi",
    "outputId": "4743a934-3efa-42ce-a04d-99a76f22978a"
   },
   "outputs": [
    {
     "output_type": "stream",
     "name": "stdout",
     "text": [
      "fatal: destination path 'Jikken5' already exists and is not an empty directory.\n"
     ]
    }
   ],
   "source": [
    "!git clone https://github.com/DUM1106/Jikken5.git"
   ]
  },
  {
   "cell_type": "code",
   "source": [
    "cd Jikken5"
   ],
   "metadata": {
    "colab": {
     "base_uri": "https://localhost:8080/"
    },
    "id": "CRSWTEpL-5Qj",
    "outputId": "87bfc643-c2c5-4bf8-c739-8060e8da0a76"
   },
   "execution_count": 5,
   "outputs": [
    {
     "output_type": "stream",
     "name": "stdout",
     "text": [
      "/content/drive/My Drive/AI_Experiment/Jikken5/Jikken5\n"
     ]
    }
   ]
  },
  {
   "cell_type": "code",
   "source": [
    "!git pull origin colab"
   ],
   "metadata": {
    "colab": {
     "base_uri": "https://localhost:8080/"
    },
    "id": "VfWKOo8H-03R",
    "outputId": "f7d3be4f-1789-4df6-b65e-f2afaea7e90e"
   },
   "execution_count": 9,
   "outputs": [
    {
     "output_type": "stream",
     "name": "stdout",
     "text": [
      "remote: Enumerating objects: 18, done.\u001B[K\n",
      "remote: Counting objects:   5% (1/18)\u001B[K\rremote: Counting objects:  11% (2/18)\u001B[K\rremote: Counting objects:  16% (3/18)\u001B[K\rremote: Counting objects:  22% (4/18)\u001B[K\rremote: Counting objects:  27% (5/18)\u001B[K\rremote: Counting objects:  33% (6/18)\u001B[K\rremote: Counting objects:  38% (7/18)\u001B[K\rremote: Counting objects:  44% (8/18)\u001B[K\rremote: Counting objects:  50% (9/18)\u001B[K\rremote: Counting objects:  55% (10/18)\u001B[K\rremote: Counting objects:  61% (11/18)\u001B[K\rremote: Counting objects:  66% (12/18)\u001B[K\rremote: Counting objects:  72% (13/18)\u001B[K\rremote: Counting objects:  77% (14/18)\u001B[K\rremote: Counting objects:  83% (15/18)\u001B[K\rremote: Counting objects:  88% (16/18)\u001B[K\rremote: Counting objects:  94% (17/18)\u001B[K\rremote: Counting objects: 100% (18/18)\u001B[K\rremote: Counting objects: 100% (18/18), done.\u001B[K\n",
      "remote: Compressing objects:  20% (1/5)\u001B[K\rremote: Compressing objects:  40% (2/5)\u001B[K\rremote: Compressing objects:  60% (3/5)\u001B[K\rremote: Compressing objects:  80% (4/5)\u001B[K\rremote: Compressing objects: 100% (5/5)\u001B[K\rremote: Compressing objects: 100% (5/5), done.\u001B[K\n",
      "remote: Total 10 (delta 5), reused 10 (delta 5), pack-reused 0\u001B[K\n",
      "Unpacking objects: 100% (10/10), 45.82 KiB | 83.00 KiB/s, done.\n",
      "From https://github.com/DUM1106/Jikken5\n",
      " * branch            colab      -> FETCH_HEAD\n",
      "   59d1df7..5a712b9  colab      -> origin/colab\n",
      "Updating 59d1df7..5a712b9\n",
      "Fast-forward\n",
      " configs/ljs_base.json                 |    4 \u001B[32m+\u001B[m\u001B[31m-\u001B[m\n",
      " data_utils.py                         |   32 \u001B[32m+\u001B[m\u001B[31m-\u001B[m\n",
      " filelistcreator.py                    |    9 \u001B[32m+\u001B[m\n",
      " filelists/ljs_audio_test_filelist.txt | 8003 \u001B[32m++++++++++++++++++++++++++++++++++++++++++++++++++++\u001B[m\u001B[31m-\u001B[m\n",
      " filelists/ljs_audio_val_filelist.txt  | 2004 \u001B[32m+++++++++++++\u001B[m\u001B[31m-\u001B[m\n",
      " train.py                              |    6 \u001B[32m+\u001B[m\u001B[31m-\u001B[m\n",
      " 6 files changed, 10036 insertions(+), 22 deletions(-)\n",
      " create mode 100644 filelistcreator.py\n"
     ]
    }
   ]
  },
  {
   "cell_type": "code",
   "source": [
    "!git checkout colab"
   ],
   "metadata": {
    "colab": {
     "base_uri": "https://localhost:8080/"
    },
    "id": "Sut79bThP9Z_",
    "outputId": "52ab3c21-fd70-43a9-b659-3eb14b54ae5d"
   },
   "execution_count": 10,
   "outputs": [
    {
     "output_type": "stream",
     "name": "stdout",
     "text": [
      "M\tinference.ipynb\n",
      "Branch 'colab' set up to track remote branch 'colab' from 'origin'.\n",
      "Switched to a new branch 'colab'\n"
     ]
    }
   ]
  },
  {
   "cell_type": "code",
   "execution_count": 12,
   "metadata": {
    "colab": {
     "base_uri": "https://localhost:8080/"
    },
    "id": "MYekeXqycLMU",
    "outputId": "2a1b0424-bbfb-49f5-ccad-3a1684b59244"
   },
   "outputs": [
    {
     "output_type": "stream",
     "name": "stdout",
     "text": [
      "Collecting git+https://github.com/UKPLab/sentence-transformers.git\n",
      "  Cloning https://github.com/UKPLab/sentence-transformers.git to /tmp/pip-req-build-chdsjyfp\n",
      "  Running command git clone --filter=blob:none --quiet https://github.com/UKPLab/sentence-transformers.git /tmp/pip-req-build-chdsjyfp\n",
      "  Resolved https://github.com/UKPLab/sentence-transformers.git to commit c5f93f70eca933c78695c5bc686ceda59651ae3b\n",
      "  Preparing metadata (setup.py) ... \u001B[?25l\u001B[?25hdone\n",
      "Requirement already satisfied: transformers<5.0.0,>=4.6.0 in /usr/local/lib/python3.10/dist-packages (from sentence-transformers==2.2.2) (4.35.2)\n",
      "Requirement already satisfied: tqdm in /usr/local/lib/python3.10/dist-packages (from sentence-transformers==2.2.2) (4.66.1)\n",
      "Requirement already satisfied: torch>=1.6.0 in /usr/local/lib/python3.10/dist-packages (from sentence-transformers==2.2.2) (2.1.0+cu118)\n",
      "Requirement already satisfied: torchvision in /usr/local/lib/python3.10/dist-packages (from sentence-transformers==2.2.2) (0.16.0+cu118)\n",
      "Requirement already satisfied: numpy in /usr/local/lib/python3.10/dist-packages (from sentence-transformers==2.2.2) (1.23.5)\n",
      "Requirement already satisfied: scikit-learn in /usr/local/lib/python3.10/dist-packages (from sentence-transformers==2.2.2) (1.2.2)\n",
      "Requirement already satisfied: scipy in /usr/local/lib/python3.10/dist-packages (from sentence-transformers==2.2.2) (1.11.3)\n",
      "Requirement already satisfied: nltk in /usr/local/lib/python3.10/dist-packages (from sentence-transformers==2.2.2) (3.8.1)\n",
      "Collecting sentencepiece (from sentence-transformers==2.2.2)\n",
      "  Downloading sentencepiece-0.1.99-cp310-cp310-manylinux_2_17_x86_64.manylinux2014_x86_64.whl (1.3 MB)\n",
      "\u001B[2K     \u001B[90m━━━━━━━━━━━━━━━━━━━━━━━━━━━━━━━━━━━━━━━━\u001B[0m \u001B[32m1.3/1.3 MB\u001B[0m \u001B[31m11.6 MB/s\u001B[0m eta \u001B[36m0:00:00\u001B[0m\n",
      "\u001B[?25hRequirement already satisfied: huggingface-hub>=0.4.0 in /usr/local/lib/python3.10/dist-packages (from sentence-transformers==2.2.2) (0.19.4)\n",
      "Requirement already satisfied: filelock in /usr/local/lib/python3.10/dist-packages (from huggingface-hub>=0.4.0->sentence-transformers==2.2.2) (3.13.1)\n",
      "Requirement already satisfied: fsspec>=2023.5.0 in /usr/local/lib/python3.10/dist-packages (from huggingface-hub>=0.4.0->sentence-transformers==2.2.2) (2023.6.0)\n",
      "Requirement already satisfied: requests in /usr/local/lib/python3.10/dist-packages (from huggingface-hub>=0.4.0->sentence-transformers==2.2.2) (2.31.0)\n",
      "Requirement already satisfied: pyyaml>=5.1 in /usr/local/lib/python3.10/dist-packages (from huggingface-hub>=0.4.0->sentence-transformers==2.2.2) (6.0.1)\n",
      "Requirement already satisfied: typing-extensions>=3.7.4.3 in /usr/local/lib/python3.10/dist-packages (from huggingface-hub>=0.4.0->sentence-transformers==2.2.2) (4.5.0)\n",
      "Requirement already satisfied: packaging>=20.9 in /usr/local/lib/python3.10/dist-packages (from huggingface-hub>=0.4.0->sentence-transformers==2.2.2) (23.2)\n",
      "Requirement already satisfied: sympy in /usr/local/lib/python3.10/dist-packages (from torch>=1.6.0->sentence-transformers==2.2.2) (1.12)\n",
      "Requirement already satisfied: networkx in /usr/local/lib/python3.10/dist-packages (from torch>=1.6.0->sentence-transformers==2.2.2) (3.2.1)\n",
      "Requirement already satisfied: jinja2 in /usr/local/lib/python3.10/dist-packages (from torch>=1.6.0->sentence-transformers==2.2.2) (3.1.2)\n",
      "Requirement already satisfied: triton==2.1.0 in /usr/local/lib/python3.10/dist-packages (from torch>=1.6.0->sentence-transformers==2.2.2) (2.1.0)\n",
      "Requirement already satisfied: regex!=2019.12.17 in /usr/local/lib/python3.10/dist-packages (from transformers<5.0.0,>=4.6.0->sentence-transformers==2.2.2) (2023.6.3)\n",
      "Requirement already satisfied: tokenizers<0.19,>=0.14 in /usr/local/lib/python3.10/dist-packages (from transformers<5.0.0,>=4.6.0->sentence-transformers==2.2.2) (0.15.0)\n",
      "Requirement already satisfied: safetensors>=0.3.1 in /usr/local/lib/python3.10/dist-packages (from transformers<5.0.0,>=4.6.0->sentence-transformers==2.2.2) (0.4.0)\n",
      "Requirement already satisfied: click in /usr/local/lib/python3.10/dist-packages (from nltk->sentence-transformers==2.2.2) (8.1.7)\n",
      "Requirement already satisfied: joblib in /usr/local/lib/python3.10/dist-packages (from nltk->sentence-transformers==2.2.2) (1.3.2)\n",
      "Requirement already satisfied: threadpoolctl>=2.0.0 in /usr/local/lib/python3.10/dist-packages (from scikit-learn->sentence-transformers==2.2.2) (3.2.0)\n",
      "Requirement already satisfied: pillow!=8.3.*,>=5.3.0 in /usr/local/lib/python3.10/dist-packages (from torchvision->sentence-transformers==2.2.2) (9.4.0)\n",
      "Requirement already satisfied: MarkupSafe>=2.0 in /usr/local/lib/python3.10/dist-packages (from jinja2->torch>=1.6.0->sentence-transformers==2.2.2) (2.1.3)\n",
      "Requirement already satisfied: charset-normalizer<4,>=2 in /usr/local/lib/python3.10/dist-packages (from requests->huggingface-hub>=0.4.0->sentence-transformers==2.2.2) (3.3.2)\n",
      "Requirement already satisfied: idna<4,>=2.5 in /usr/local/lib/python3.10/dist-packages (from requests->huggingface-hub>=0.4.0->sentence-transformers==2.2.2) (3.4)\n",
      "Requirement already satisfied: urllib3<3,>=1.21.1 in /usr/local/lib/python3.10/dist-packages (from requests->huggingface-hub>=0.4.0->sentence-transformers==2.2.2) (2.0.7)\n",
      "Requirement already satisfied: certifi>=2017.4.17 in /usr/local/lib/python3.10/dist-packages (from requests->huggingface-hub>=0.4.0->sentence-transformers==2.2.2) (2023.7.22)\n",
      "Requirement already satisfied: mpmath>=0.19 in /usr/local/lib/python3.10/dist-packages (from sympy->torch>=1.6.0->sentence-transformers==2.2.2) (1.3.0)\n",
      "Building wheels for collected packages: sentence-transformers\n",
      "  Building wheel for sentence-transformers (setup.py) ... \u001B[?25l\u001B[?25hdone\n",
      "  Created wheel for sentence-transformers: filename=sentence_transformers-2.2.2-py3-none-any.whl size=126124 sha256=743f703b194f6a89861f1d2f126350deadcd77e32982ce0fc8e75e3f7947a8f3\n",
      "  Stored in directory: /tmp/pip-ephem-wheel-cache-o_3v0i_w/wheels/b3/3c/de/567e2e467eb8f9469a0a35ec1590523964792b43ba1341fbf3\n",
      "Successfully built sentence-transformers\n",
      "Installing collected packages: sentencepiece, sentence-transformers\n",
      "Successfully installed sentence-transformers-2.2.2 sentencepiece-0.1.99\n"
     ]
    }
   ],
   "source": [
    "! pip3 install git+https://github.com/UKPLab/sentence-transformers.git"
   ]
  },
  {
   "cell_type": "code",
   "execution_count": null,
   "metadata": {
    "colab": {
     "base_uri": "https://localhost:8080/"
    },
    "id": "L4A5X0yuzwWj",
    "outputId": "e94f3187-72c4-46ea-fb55-f62cca832d9a"
   },
   "outputs": [
    {
     "output_type": "stream",
     "name": "stdout",
     "text": [
      "[Errno 2] No such file or directory: 'Jikken5'\n",
      "/content/drive/My Drive/AI_Experiment/Jikken5/Jikken5\n"
     ]
    }
   ],
   "source": [
    "cd Jikken5"
   ]
  },
  {
   "cell_type": "code",
   "execution_count": null,
   "metadata": {
    "colab": {
     "base_uri": "https://localhost:8080/"
    },
    "id": "jmScazdAWvJf",
    "outputId": "bbbcc464-d438-4596-e29e-a6b0b7272c7e",
    "is_executing": true,
    "ExecuteTime": {
     "start_time": "2023-11-23T18:40:01.153935300Z"
    }
   },
   "outputs": [],
   "source": [
    "! python train.py -c configs/ljs_base.json -m ljs_base"
   ]
  },
  {
   "cell_type": "code",
   "execution_count": null,
   "outputs": [],
   "source": [],
   "metadata": {
    "collapsed": false
   }
  }
 ],
 "metadata": {
  "accelerator": "GPU",
  "colab": {
   "provenance": [],
   "gpuType": "T4"
  },
  "kernelspec": {
   "name": "python3",
   "language": "python",
   "display_name": "Python 3 (ipykernel)"
  }
 },
 "nbformat": 4,
 "nbformat_minor": 0
}
