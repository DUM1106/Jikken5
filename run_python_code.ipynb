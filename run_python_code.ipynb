{
 "cells": [
  {
   "cell_type": "markdown",
   "metadata": {
    "id": "TxHb4KGqW0kd"
   },
   "source": [
    "Google Driveを使えるようにする"
   ]
  },
  {
   "cell_type": "code",
   "execution_count": 1,
   "metadata": {
    "id": "OgQBzkppWzF-"
   },
   "outputs": [],
   "source": [
    "from google.colab import drive"
   ]
  },
  {
   "cell_type": "code",
   "execution_count": 2,
   "metadata": {
    "colab": {
     "base_uri": "https://localhost:8080/"
    },
    "id": "x69n9V55sztq",
    "outputId": "53327992-ee2b-4271-dbb5-6614742ab656"
   },
   "outputs": [
    {
     "output_type": "stream",
     "name": "stdout",
     "text": [
      "Mounted at /content/drive\n"
     ]
    }
   ],
   "source": [
    "drive.mount('/content/drive',  force_remount=True)"
   ]
  },
  {
   "cell_type": "markdown",
   "metadata": {
    "id": "pbiUq94bXFOO"
   },
   "source": [
    "カレントディレクトリを確認する"
   ]
  },
  {
   "cell_type": "code",
   "execution_count": null,
   "metadata": {
    "colab": {
     "base_uri": "https://localhost:8080/",
     "height": 35
    },
    "id": "f3SX7-qOWXlJ",
    "outputId": "3c491467-b625-4ab2-9e66-3d153ec6c437"
   },
   "outputs": [
    {
     "output_type": "execute_result",
     "data": {
      "text/plain": [
       "'/content'"
      ],
      "application/vnd.google.colaboratory.intrinsic+json": {
       "type": "string"
      }
     },
     "metadata": {},
     "execution_count": 3
    }
   ],
   "source": [
    "pwd"
   ]
  },
  {
   "cell_type": "markdown",
   "metadata": {
    "id": "n5fr5CkzW8nV"
   },
   "source": [
    "対象のディレクトリに移動する（\"/content/drive/My Drive/\" があなたのドライブのホームディレクトリ）\n",
    "\n",
    "この例の場合，ホームにAI_Experimentというフォルダを作り，その下にダウンロードしたフォルダを配置している"
   ]
  },
  {
   "cell_type": "code",
   "execution_count": 3,
   "metadata": {
    "colab": {
     "base_uri": "https://localhost:8080/"
    },
    "id": "oD7f7_lOs18H",
    "outputId": "6d346f13-9b48-48ba-b21e-9c6f34629f20"
   },
   "outputs": [
    {
     "output_type": "stream",
     "name": "stdout",
     "text": [
      "/content/drive/My Drive/AI_Experiment/Jikken5\n"
     ]
    }
   ],
   "source": [
    "cd /content/drive/My Drive/AI_Experiment/Jikken5"
   ]
  },
  {
   "cell_type": "code",
   "execution_count": null,
   "metadata": {
    "id": "Vnx69X3htCqt",
    "colab": {
     "base_uri": "https://localhost:8080/"
    },
    "outputId": "bb8b2599-375d-4824-f03c-06a8ba96f3ad"
   },
   "outputs": [
    {
     "output_type": "stream",
     "name": "stdout",
     "text": [
      "\u001B[0m\u001B[01;34mJikken5\u001B[0m/\n"
     ]
    }
   ],
   "source": [
    "ls"
   ]
  },
  {
   "cell_type": "code",
   "execution_count": null,
   "metadata": {
    "colab": {
     "base_uri": "https://localhost:8080/"
    },
    "id": "s1rpe7vFugDi",
    "outputId": "4743a934-3efa-42ce-a04d-99a76f22978a"
   },
   "outputs": [
    {
     "output_type": "stream",
     "name": "stdout",
     "text": [
      "fatal: destination path 'Jikken5' already exists and is not an empty directory.\n"
     ]
    }
   ],
   "source": [
    "!git clone https://github.com/DUM1106/Jikken5.git"
   ]
  },
  {
   "cell_type": "code",
   "source": [
    "cd Jikken5"
   ],
   "metadata": {
    "colab": {
     "base_uri": "https://localhost:8080/"
    },
    "id": "CRSWTEpL-5Qj",
    "outputId": "87bfc643-c2c5-4bf8-c739-8060e8da0a76"
   },
   "execution_count": 5,
   "outputs": [
    {
     "output_type": "stream",
     "name": "stdout",
     "text": [
      "/content/drive/My Drive/AI_Experiment/Jikken5/Jikken5\n"
     ]
    }
   ]
  },
  {
   "cell_type": "code",
   "source": [
    "!git pull origin colab"
   ],
   "metadata": {
    "colab": {
     "base_uri": "https://localhost:8080/"
    },
    "id": "VfWKOo8H-03R",
    "outputId": "f7d3be4f-1789-4df6-b65e-f2afaea7e90e"
   },
   "execution_count": 9,
   "outputs": [
    {
     "output_type": "stream",
     "name": "stdout",
     "text": [
      "remote: Enumerating objects: 18, done.\u001B[K\n",
      "remote: Counting objects:   5% (1/18)\u001B[K\rremote: Counting objects:  11% (2/18)\u001B[K\rremote: Counting objects:  16% (3/18)\u001B[K\rremote: Counting objects:  22% (4/18)\u001B[K\rremote: Counting objects:  27% (5/18)\u001B[K\rremote: Counting objects:  33% (6/18)\u001B[K\rremote: Counting objects:  38% (7/18)\u001B[K\rremote: Counting objects:  44% (8/18)\u001B[K\rremote: Counting objects:  50% (9/18)\u001B[K\rremote: Counting objects:  55% (10/18)\u001B[K\rremote: Counting objects:  61% (11/18)\u001B[K\rremote: Counting objects:  66% (12/18)\u001B[K\rremote: Counting objects:  72% (13/18)\u001B[K\rremote: Counting objects:  77% (14/18)\u001B[K\rremote: Counting objects:  83% (15/18)\u001B[K\rremote: Counting objects:  88% (16/18)\u001B[K\rremote: Counting objects:  94% (17/18)\u001B[K\rremote: Counting objects: 100% (18/18)\u001B[K\rremote: Counting objects: 100% (18/18), done.\u001B[K\n",
      "remote: Compressing objects:  20% (1/5)\u001B[K\rremote: Compressing objects:  40% (2/5)\u001B[K\rremote: Compressing objects:  60% (3/5)\u001B[K\rremote: Compressing objects:  80% (4/5)\u001B[K\rremote: Compressing objects: 100% (5/5)\u001B[K\rremote: Compressing objects: 100% (5/5), done.\u001B[K\n",
      "remote: Total 10 (delta 5), reused 10 (delta 5), pack-reused 0\u001B[K\n",
      "Unpacking objects: 100% (10/10), 45.82 KiB | 83.00 KiB/s, done.\n",
      "From https://github.com/DUM1106/Jikken5\n",
      " * branch            colab      -> FETCH_HEAD\n",
      "   59d1df7..5a712b9  colab      -> origin/colab\n",
      "Updating 59d1df7..5a712b9\n",
      "Fast-forward\n",
      " configs/ljs_base.json                 |    4 \u001B[32m+\u001B[m\u001B[31m-\u001B[m\n",
      " data_utils.py                         |   32 \u001B[32m+\u001B[m\u001B[31m-\u001B[m\n",
      " filelistcreator.py                    |    9 \u001B[32m+\u001B[m\n",
      " filelists/ljs_audio_test_filelist.txt | 8003 \u001B[32m++++++++++++++++++++++++++++++++++++++++++++++++++++\u001B[m\u001B[31m-\u001B[m\n",
      " filelists/ljs_audio_val_filelist.txt  | 2004 \u001B[32m+++++++++++++\u001B[m\u001B[31m-\u001B[m\n",
      " train.py                              |    6 \u001B[32m+\u001B[m\u001B[31m-\u001B[m\n",
      " 6 files changed, 10036 insertions(+), 22 deletions(-)\n",
      " create mode 100644 filelistcreator.py\n"
     ]
    }
   ]
  },
  {
   "cell_type": "code",
   "source": [
    "!git checkout colab"
   ],
   "metadata": {
    "colab": {
     "base_uri": "https://localhost:8080/"
    },
    "id": "Sut79bThP9Z_",
    "outputId": "52ab3c21-fd70-43a9-b659-3eb14b54ae5d"
   },
   "execution_count": 10,
   "outputs": [
    {
     "output_type": "stream",
     "name": "stdout",
     "text": [
      "M\tinference.ipynb\n",
      "Branch 'colab' set up to track remote branch 'colab' from 'origin'.\n",
      "Switched to a new branch 'colab'\n"
     ]
    }
   ]
  },
  {
   "cell_type": "code",
   "execution_count": 12,
   "metadata": {
    "colab": {
     "base_uri": "https://localhost:8080/"
    },
    "id": "MYekeXqycLMU",
    "outputId": "2a1b0424-bbfb-49f5-ccad-3a1684b59244"
   },
   "outputs": [
    {
     "output_type": "stream",
     "name": "stdout",
     "text": [
      "Collecting git+https://github.com/UKPLab/sentence-transformers.git\n",
      "  Cloning https://github.com/UKPLab/sentence-transformers.git to /tmp/pip-req-build-chdsjyfp\n",
      "  Running command git clone --filter=blob:none --quiet https://github.com/UKPLab/sentence-transformers.git /tmp/pip-req-build-chdsjyfp\n",
      "  Resolved https://github.com/UKPLab/sentence-transformers.git to commit c5f93f70eca933c78695c5bc686ceda59651ae3b\n",
      "  Preparing metadata (setup.py) ... \u001B[?25l\u001B[?25hdone\n",
      "Requirement already satisfied: transformers<5.0.0,>=4.6.0 in /usr/local/lib/python3.10/dist-packages (from sentence-transformers==2.2.2) (4.35.2)\n",
      "Requirement already satisfied: tqdm in /usr/local/lib/python3.10/dist-packages (from sentence-transformers==2.2.2) (4.66.1)\n",
      "Requirement already satisfied: torch>=1.6.0 in /usr/local/lib/python3.10/dist-packages (from sentence-transformers==2.2.2) (2.1.0+cu118)\n",
      "Requirement already satisfied: torchvision in /usr/local/lib/python3.10/dist-packages (from sentence-transformers==2.2.2) (0.16.0+cu118)\n",
      "Requirement already satisfied: numpy in /usr/local/lib/python3.10/dist-packages (from sentence-transformers==2.2.2) (1.23.5)\n",
      "Requirement already satisfied: scikit-learn in /usr/local/lib/python3.10/dist-packages (from sentence-transformers==2.2.2) (1.2.2)\n",
      "Requirement already satisfied: scipy in /usr/local/lib/python3.10/dist-packages (from sentence-transformers==2.2.2) (1.11.3)\n",
      "Requirement already satisfied: nltk in /usr/local/lib/python3.10/dist-packages (from sentence-transformers==2.2.2) (3.8.1)\n",
      "Collecting sentencepiece (from sentence-transformers==2.2.2)\n",
      "  Downloading sentencepiece-0.1.99-cp310-cp310-manylinux_2_17_x86_64.manylinux2014_x86_64.whl (1.3 MB)\n",
      "\u001B[2K     \u001B[90m━━━━━━━━━━━━━━━━━━━━━━━━━━━━━━━━━━━━━━━━\u001B[0m \u001B[32m1.3/1.3 MB\u001B[0m \u001B[31m11.6 MB/s\u001B[0m eta \u001B[36m0:00:00\u001B[0m\n",
      "\u001B[?25hRequirement already satisfied: huggingface-hub>=0.4.0 in /usr/local/lib/python3.10/dist-packages (from sentence-transformers==2.2.2) (0.19.4)\n",
      "Requirement already satisfied: filelock in /usr/local/lib/python3.10/dist-packages (from huggingface-hub>=0.4.0->sentence-transformers==2.2.2) (3.13.1)\n",
      "Requirement already satisfied: fsspec>=2023.5.0 in /usr/local/lib/python3.10/dist-packages (from huggingface-hub>=0.4.0->sentence-transformers==2.2.2) (2023.6.0)\n",
      "Requirement already satisfied: requests in /usr/local/lib/python3.10/dist-packages (from huggingface-hub>=0.4.0->sentence-transformers==2.2.2) (2.31.0)\n",
      "Requirement already satisfied: pyyaml>=5.1 in /usr/local/lib/python3.10/dist-packages (from huggingface-hub>=0.4.0->sentence-transformers==2.2.2) (6.0.1)\n",
      "Requirement already satisfied: typing-extensions>=3.7.4.3 in /usr/local/lib/python3.10/dist-packages (from huggingface-hub>=0.4.0->sentence-transformers==2.2.2) (4.5.0)\n",
      "Requirement already satisfied: packaging>=20.9 in /usr/local/lib/python3.10/dist-packages (from huggingface-hub>=0.4.0->sentence-transformers==2.2.2) (23.2)\n",
      "Requirement already satisfied: sympy in /usr/local/lib/python3.10/dist-packages (from torch>=1.6.0->sentence-transformers==2.2.2) (1.12)\n",
      "Requirement already satisfied: networkx in /usr/local/lib/python3.10/dist-packages (from torch>=1.6.0->sentence-transformers==2.2.2) (3.2.1)\n",
      "Requirement already satisfied: jinja2 in /usr/local/lib/python3.10/dist-packages (from torch>=1.6.0->sentence-transformers==2.2.2) (3.1.2)\n",
      "Requirement already satisfied: triton==2.1.0 in /usr/local/lib/python3.10/dist-packages (from torch>=1.6.0->sentence-transformers==2.2.2) (2.1.0)\n",
      "Requirement already satisfied: regex!=2019.12.17 in /usr/local/lib/python3.10/dist-packages (from transformers<5.0.0,>=4.6.0->sentence-transformers==2.2.2) (2023.6.3)\n",
      "Requirement already satisfied: tokenizers<0.19,>=0.14 in /usr/local/lib/python3.10/dist-packages (from transformers<5.0.0,>=4.6.0->sentence-transformers==2.2.2) (0.15.0)\n",
      "Requirement already satisfied: safetensors>=0.3.1 in /usr/local/lib/python3.10/dist-packages (from transformers<5.0.0,>=4.6.0->sentence-transformers==2.2.2) (0.4.0)\n",
      "Requirement already satisfied: click in /usr/local/lib/python3.10/dist-packages (from nltk->sentence-transformers==2.2.2) (8.1.7)\n",
      "Requirement already satisfied: joblib in /usr/local/lib/python3.10/dist-packages (from nltk->sentence-transformers==2.2.2) (1.3.2)\n",
      "Requirement already satisfied: threadpoolctl>=2.0.0 in /usr/local/lib/python3.10/dist-packages (from scikit-learn->sentence-transformers==2.2.2) (3.2.0)\n",
      "Requirement already satisfied: pillow!=8.3.*,>=5.3.0 in /usr/local/lib/python3.10/dist-packages (from torchvision->sentence-transformers==2.2.2) (9.4.0)\n",
      "Requirement already satisfied: MarkupSafe>=2.0 in /usr/local/lib/python3.10/dist-packages (from jinja2->torch>=1.6.0->sentence-transformers==2.2.2) (2.1.3)\n",
      "Requirement already satisfied: charset-normalizer<4,>=2 in /usr/local/lib/python3.10/dist-packages (from requests->huggingface-hub>=0.4.0->sentence-transformers==2.2.2) (3.3.2)\n",
      "Requirement already satisfied: idna<4,>=2.5 in /usr/local/lib/python3.10/dist-packages (from requests->huggingface-hub>=0.4.0->sentence-transformers==2.2.2) (3.4)\n",
      "Requirement already satisfied: urllib3<3,>=1.21.1 in /usr/local/lib/python3.10/dist-packages (from requests->huggingface-hub>=0.4.0->sentence-transformers==2.2.2) (2.0.7)\n",
      "Requirement already satisfied: certifi>=2017.4.17 in /usr/local/lib/python3.10/dist-packages (from requests->huggingface-hub>=0.4.0->sentence-transformers==2.2.2) (2023.7.22)\n",
      "Requirement already satisfied: mpmath>=0.19 in /usr/local/lib/python3.10/dist-packages (from sympy->torch>=1.6.0->sentence-transformers==2.2.2) (1.3.0)\n",
      "Building wheels for collected packages: sentence-transformers\n",
      "  Building wheel for sentence-transformers (setup.py) ... \u001B[?25l\u001B[?25hdone\n",
      "  Created wheel for sentence-transformers: filename=sentence_transformers-2.2.2-py3-none-any.whl size=126124 sha256=743f703b194f6a89861f1d2f126350deadcd77e32982ce0fc8e75e3f7947a8f3\n",
      "  Stored in directory: /tmp/pip-ephem-wheel-cache-o_3v0i_w/wheels/b3/3c/de/567e2e467eb8f9469a0a35ec1590523964792b43ba1341fbf3\n",
      "Successfully built sentence-transformers\n",
      "Installing collected packages: sentencepiece, sentence-transformers\n",
      "Successfully installed sentence-transformers-2.2.2 sentencepiece-0.1.99\n"
     ]
    }
   ],
   "source": [
    "! pip3 install git+https://github.com/UKPLab/sentence-transformers.git"
   ]
  },
  {
   "cell_type": "code",
   "execution_count": null,
   "metadata": {
    "colab": {
     "base_uri": "https://localhost:8080/"
    },
    "id": "L4A5X0yuzwWj",
    "outputId": "e94f3187-72c4-46ea-fb55-f62cca832d9a"
   },
   "outputs": [
    {
     "output_type": "stream",
     "name": "stdout",
     "text": [
      "[Errno 2] No such file or directory: 'Jikken5'\n",
      "/content/drive/My Drive/AI_Experiment/Jikken5/Jikken5\n"
     ]
    }
   ],
   "source": [
    "cd Jikken5"
   ]
  },
  {
   "cell_type": "code",
   "execution_count": 3,
   "metadata": {
    "colab": {
     "base_uri": "https://localhost:8080/"
    },
    "id": "jmScazdAWvJf",
    "outputId": "bbbcc464-d438-4596-e29e-a6b0b7272c7e",
    "ExecuteTime": {
     "end_time": "2023-11-23T18:06:40.092109100Z",
     "start_time": "2023-11-23T18:06:31.641212100Z"
    }
   },
   "outputs": [
    {
     "name": "stdout",
     "output_type": "stream",
     "text": [
      "DEBUG:numba.core.byteflow:bytecode dump:\n",
      ">          0\tNOP(arg=None, lineno=1039)\n",
      "           2\tLOAD_FAST(arg=0, lineno=1042)\n",
      "           4\tLOAD_CONST(arg=1, lineno=1042)\n",
      "           6\tBINARY_SUBSCR(arg=None, lineno=1042)\n",
      "           8\tLOAD_FAST(arg=0, lineno=1042)\n",
      "          10\tLOAD_CONST(arg=2, lineno=1042)\n",
      "          12\tBINARY_SUBSCR(arg=None, lineno=1042)\n",
      "          14\tCOMPARE_OP(arg=4, lineno=1042)\n",
      "          16\tLOAD_FAST(arg=0, lineno=1042)\n",
      "          18\tLOAD_CONST(arg=1, lineno=1042)\n",
      "          20\tBINARY_SUBSCR(arg=None, lineno=1042)\n",
      "          22\tLOAD_FAST(arg=0, lineno=1042)\n",
      "          24\tLOAD_CONST(arg=3, lineno=1042)\n",
      "          26\tBINARY_SUBSCR(arg=None, lineno=1042)\n",
      "          28\tCOMPARE_OP(arg=5, lineno=1042)\n",
      "          30\tBINARY_AND(arg=None, lineno=1042)\n",
      "          32\tRETURN_VALUE(arg=None, lineno=1042)\n",
      "DEBUG:numba.core.byteflow:pending: deque([State(pc_initial=0 nstack_initial=0)])\n",
      "DEBUG:numba.core.byteflow:stack: []\n",
      "DEBUG:numba.core.byteflow:state.pc_initial: State(pc_initial=0 nstack_initial=0)\n",
      "DEBUG:numba.core.byteflow:dispatch pc=0, inst=NOP(arg=None, lineno=1039)\n",
      "DEBUG:numba.core.byteflow:stack []\n",
      "DEBUG:numba.core.byteflow:dispatch pc=2, inst=LOAD_FAST(arg=0, lineno=1042)\n",
      "DEBUG:numba.core.byteflow:stack []\n",
      "DEBUG:numba.core.byteflow:dispatch pc=4, inst=LOAD_CONST(arg=1, lineno=1042)\n",
      "DEBUG:numba.core.byteflow:stack ['$x2.0']\n",
      "DEBUG:numba.core.byteflow:dispatch pc=6, inst=BINARY_SUBSCR(arg=None, lineno=1042)\n",
      "DEBUG:numba.core.byteflow:stack ['$x2.0', '$const4.1']\n",
      "DEBUG:numba.core.byteflow:dispatch pc=8, inst=LOAD_FAST(arg=0, lineno=1042)\n",
      "DEBUG:numba.core.byteflow:stack ['$6binary_subscr.2']\n",
      "DEBUG:numba.core.byteflow:dispatch pc=10, inst=LOAD_CONST(arg=2, lineno=1042)\n",
      "DEBUG:numba.core.byteflow:stack ['$6binary_subscr.2', '$x8.3']\n",
      "DEBUG:numba.core.byteflow:dispatch pc=12, inst=BINARY_SUBSCR(arg=None, lineno=1042)\n",
      "DEBUG:numba.core.byteflow:stack ['$6binary_subscr.2', '$x8.3', '$const10.4']\n",
      "DEBUG:numba.core.byteflow:dispatch pc=14, inst=COMPARE_OP(arg=4, lineno=1042)\n",
      "DEBUG:numba.core.byteflow:stack ['$6binary_subscr.2', '$12binary_subscr.5']\n",
      "DEBUG:numba.core.byteflow:dispatch pc=16, inst=LOAD_FAST(arg=0, lineno=1042)\n",
      "DEBUG:numba.core.byteflow:stack ['$14compare_op.6']\n",
      "DEBUG:numba.core.byteflow:dispatch pc=18, inst=LOAD_CONST(arg=1, lineno=1042)\n",
      "DEBUG:numba.core.byteflow:stack ['$14compare_op.6', '$x16.7']\n",
      "DEBUG:numba.core.byteflow:dispatch pc=20, inst=BINARY_SUBSCR(arg=None, lineno=1042)\n",
      "DEBUG:numba.core.byteflow:stack ['$14compare_op.6', '$x16.7', '$const18.8']\n",
      "DEBUG:numba.core.byteflow:dispatch pc=22, inst=LOAD_FAST(arg=0, lineno=1042)\n",
      "DEBUG:numba.core.byteflow:stack ['$14compare_op.6', '$20binary_subscr.9']\n",
      "DEBUG:numba.core.byteflow:dispatch pc=24, inst=LOAD_CONST(arg=3, lineno=1042)\n",
      "DEBUG:numba.core.byteflow:stack ['$14compare_op.6', '$20binary_subscr.9', '$x22.10']\n",
      "DEBUG:numba.core.byteflow:dispatch pc=26, inst=BINARY_SUBSCR(arg=None, lineno=1042)\n",
      "DEBUG:numba.core.byteflow:stack ['$14compare_op.6', '$20binary_subscr.9', '$x22.10', '$const24.11']\n",
      "DEBUG:numba.core.byteflow:dispatch pc=28, inst=COMPARE_OP(arg=5, lineno=1042)\n",
      "DEBUG:numba.core.byteflow:stack ['$14compare_op.6', '$20binary_subscr.9', '$26binary_subscr.12']\n",
      "DEBUG:numba.core.byteflow:dispatch pc=30, inst=BINARY_AND(arg=None, lineno=1042)\n",
      "DEBUG:numba.core.byteflow:stack ['$14compare_op.6', '$28compare_op.13']\n",
      "DEBUG:numba.core.byteflow:dispatch pc=32, inst=RETURN_VALUE(arg=None, lineno=1042)\n",
      "DEBUG:numba.core.byteflow:stack ['$30binary_and.14']\n",
      "DEBUG:numba.core.byteflow:end state. edges=[]\n",
      "DEBUG:numba.core.byteflow:-------------------------Prune PHIs-------------------------\n",
      "DEBUG:numba.core.byteflow:Used_phis: defaultdict(<class 'set'>, {State(pc_initial=0 nstack_initial=0): set()})\n",
      "DEBUG:numba.core.byteflow:defmap: {}\n",
      "DEBUG:numba.core.byteflow:phismap: defaultdict(<class 'set'>, {})\n",
      "DEBUG:numba.core.byteflow:changing phismap: defaultdict(<class 'set'>, {})\n",
      "DEBUG:numba.core.byteflow:keep phismap: {}\n",
      "DEBUG:numba.core.byteflow:new_out: defaultdict(<class 'dict'>, {})\n",
      "DEBUG:numba.core.byteflow:----------------------DONE Prune PHIs-----------------------\n",
      "DEBUG:numba.core.byteflow:block_infos State(pc_initial=0 nstack_initial=0):\n",
      "AdaptBlockInfo(insts=((0, {}), (2, {'res': '$x2.0'}), (4, {'res': '$const4.1'}), (6, {'index': '$const4.1', 'target': '$x2.0', 'res': '$6binary_subscr.2'}), (8, {'res': '$x8.3'}), (10, {'res': '$const10.4'}), (12, {'index': '$const10.4', 'target': '$x8.3', 'res': '$12binary_subscr.5'}), (14, {'lhs': '$6binary_subscr.2', 'rhs': '$12binary_subscr.5', 'res': '$14compare_op.6'}), (16, {'res': '$x16.7'}), (18, {'res': '$const18.8'}), (20, {'index': '$const18.8', 'target': '$x16.7', 'res': '$20binary_subscr.9'}), (22, {'res': '$x22.10'}), (24, {'res': '$const24.11'}), (26, {'index': '$const24.11', 'target': '$x22.10', 'res': '$26binary_subscr.12'}), (28, {'lhs': '$20binary_subscr.9', 'rhs': '$26binary_subscr.12', 'res': '$28compare_op.13'}), (30, {'lhs': '$14compare_op.6', 'rhs': '$28compare_op.13', 'res': '$30binary_and.14'}), (32, {'retval': '$30binary_and.14', 'castval': '$32return_value.15'})), outgoing_phis={}, blockstack=(), active_try_block=None, outgoing_edgepushed={})\n",
      "DEBUG:numba.core.interpreter:label 0:\n",
      "    x = arg(0, name=x)                       ['x']\n",
      "    $const4.1 = const(int, 0)                ['$const4.1']\n",
      "    $6binary_subscr.2 = getitem(value=x, index=$const4.1, fn=<built-in function getitem>) ['$6binary_subscr.2', '$const4.1', 'x']\n",
      "    $const10.4 = const(int, -1)              ['$const10.4']\n",
      "    $12binary_subscr.5 = getitem(value=x, index=$const10.4, fn=<built-in function getitem>) ['$12binary_subscr.5', '$const10.4', 'x']\n",
      "    $14compare_op.6 = $6binary_subscr.2 > $12binary_subscr.5 ['$12binary_subscr.5', '$14compare_op.6', '$6binary_subscr.2']\n",
      "    $const18.8 = const(int, 0)               ['$const18.8']\n",
      "    $20binary_subscr.9 = getitem(value=x, index=$const18.8, fn=<built-in function getitem>) ['$20binary_subscr.9', '$const18.8', 'x']\n",
      "    $const24.11 = const(int, 1)              ['$const24.11']\n",
      "    $26binary_subscr.12 = getitem(value=x, index=$const24.11, fn=<built-in function getitem>) ['$26binary_subscr.12', '$const24.11', 'x']\n",
      "    $28compare_op.13 = $20binary_subscr.9 >= $26binary_subscr.12 ['$20binary_subscr.9', '$26binary_subscr.12', '$28compare_op.13']\n",
      "    $30binary_and.14 = $14compare_op.6 & $28compare_op.13 ['$14compare_op.6', '$28compare_op.13', '$30binary_and.14']\n",
      "    $32return_value.15 = cast(value=$30binary_and.14) ['$30binary_and.14', '$32return_value.15']\n",
      "    return $32return_value.15                ['$32return_value.15']\n",
      "\n",
      "DEBUG:numba.core.byteflow:bytecode dump:\n",
      ">          0\tNOP(arg=None, lineno=1045)\n",
      "           2\tLOAD_FAST(arg=0, lineno=1048)\n",
      "           4\tLOAD_CONST(arg=1, lineno=1048)\n",
      "           6\tBINARY_SUBSCR(arg=None, lineno=1048)\n",
      "           8\tLOAD_FAST(arg=0, lineno=1048)\n",
      "          10\tLOAD_CONST(arg=2, lineno=1048)\n",
      "          12\tBINARY_SUBSCR(arg=None, lineno=1048)\n",
      "          14\tCOMPARE_OP(arg=0, lineno=1048)\n",
      "          16\tLOAD_FAST(arg=0, lineno=1048)\n",
      "          18\tLOAD_CONST(arg=1, lineno=1048)\n",
      "          20\tBINARY_SUBSCR(arg=None, lineno=1048)\n",
      "          22\tLOAD_FAST(arg=0, lineno=1048)\n",
      "          24\tLOAD_CONST(arg=3, lineno=1048)\n",
      "          26\tBINARY_SUBSCR(arg=None, lineno=1048)\n",
      "          28\tCOMPARE_OP(arg=1, lineno=1048)\n",
      "          30\tBINARY_AND(arg=None, lineno=1048)\n",
      "          32\tRETURN_VALUE(arg=None, lineno=1048)\n",
      "DEBUG:numba.core.byteflow:pending: deque([State(pc_initial=0 nstack_initial=0)])\n",
      "DEBUG:numba.core.byteflow:stack: []\n",
      "DEBUG:numba.core.byteflow:state.pc_initial: State(pc_initial=0 nstack_initial=0)\n",
      "DEBUG:numba.core.byteflow:dispatch pc=0, inst=NOP(arg=None, lineno=1045)\n",
      "DEBUG:numba.core.byteflow:stack []\n",
      "DEBUG:numba.core.byteflow:dispatch pc=2, inst=LOAD_FAST(arg=0, lineno=1048)\n",
      "DEBUG:numba.core.byteflow:stack []\n",
      "DEBUG:numba.core.byteflow:dispatch pc=4, inst=LOAD_CONST(arg=1, lineno=1048)\n",
      "DEBUG:numba.core.byteflow:stack ['$x2.0']\n",
      "DEBUG:numba.core.byteflow:dispatch pc=6, inst=BINARY_SUBSCR(arg=None, lineno=1048)\n",
      "DEBUG:numba.core.byteflow:stack ['$x2.0', '$const4.1']\n",
      "DEBUG:numba.core.byteflow:dispatch pc=8, inst=LOAD_FAST(arg=0, lineno=1048)\n",
      "DEBUG:numba.core.byteflow:stack ['$6binary_subscr.2']\n",
      "DEBUG:numba.core.byteflow:dispatch pc=10, inst=LOAD_CONST(arg=2, lineno=1048)\n",
      "DEBUG:numba.core.byteflow:stack ['$6binary_subscr.2', '$x8.3']\n",
      "DEBUG:numba.core.byteflow:dispatch pc=12, inst=BINARY_SUBSCR(arg=None, lineno=1048)\n",
      "DEBUG:numba.core.byteflow:stack ['$6binary_subscr.2', '$x8.3', '$const10.4']\n",
      "DEBUG:numba.core.byteflow:dispatch pc=14, inst=COMPARE_OP(arg=0, lineno=1048)\n",
      "DEBUG:numba.core.byteflow:stack ['$6binary_subscr.2', '$12binary_subscr.5']\n",
      "DEBUG:numba.core.byteflow:dispatch pc=16, inst=LOAD_FAST(arg=0, lineno=1048)\n",
      "DEBUG:numba.core.byteflow:stack ['$14compare_op.6']\n",
      "DEBUG:numba.core.byteflow:dispatch pc=18, inst=LOAD_CONST(arg=1, lineno=1048)\n",
      "DEBUG:numba.core.byteflow:stack ['$14compare_op.6', '$x16.7']\n",
      "DEBUG:numba.core.byteflow:dispatch pc=20, inst=BINARY_SUBSCR(arg=None, lineno=1048)\n",
      "DEBUG:numba.core.byteflow:stack ['$14compare_op.6', '$x16.7', '$const18.8']\n",
      "DEBUG:numba.core.byteflow:dispatch pc=22, inst=LOAD_FAST(arg=0, lineno=1048)\n",
      "DEBUG:numba.core.byteflow:stack ['$14compare_op.6', '$20binary_subscr.9']\n",
      "DEBUG:numba.core.byteflow:dispatch pc=24, inst=LOAD_CONST(arg=3, lineno=1048)\n",
      "DEBUG:numba.core.byteflow:stack ['$14compare_op.6', '$20binary_subscr.9', '$x22.10']\n",
      "DEBUG:numba.core.byteflow:dispatch pc=26, inst=BINARY_SUBSCR(arg=None, lineno=1048)\n",
      "DEBUG:numba.core.byteflow:stack ['$14compare_op.6', '$20binary_subscr.9', '$x22.10', '$const24.11']\n",
      "DEBUG:numba.core.byteflow:dispatch pc=28, inst=COMPARE_OP(arg=1, lineno=1048)\n",
      "DEBUG:numba.core.byteflow:stack ['$14compare_op.6', '$20binary_subscr.9', '$26binary_subscr.12']\n",
      "DEBUG:numba.core.byteflow:dispatch pc=30, inst=BINARY_AND(arg=None, lineno=1048)\n",
      "DEBUG:numba.core.byteflow:stack ['$14compare_op.6', '$28compare_op.13']\n",
      "DEBUG:numba.core.byteflow:dispatch pc=32, inst=RETURN_VALUE(arg=None, lineno=1048)\n",
      "DEBUG:numba.core.byteflow:stack ['$30binary_and.14']\n",
      "DEBUG:numba.core.byteflow:end state. edges=[]\n",
      "DEBUG:numba.core.byteflow:-------------------------Prune PHIs-------------------------\n",
      "DEBUG:numba.core.byteflow:Used_phis: defaultdict(<class 'set'>, {State(pc_initial=0 nstack_initial=0): set()})\n",
      "DEBUG:numba.core.byteflow:defmap: {}\n",
      "DEBUG:numba.core.byteflow:phismap: defaultdict(<class 'set'>, {})\n",
      "DEBUG:numba.core.byteflow:changing phismap: defaultdict(<class 'set'>, {})\n",
      "DEBUG:numba.core.byteflow:keep phismap: {}\n",
      "DEBUG:numba.core.byteflow:new_out: defaultdict(<class 'dict'>, {})\n",
      "DEBUG:numba.core.byteflow:----------------------DONE Prune PHIs-----------------------\n",
      "DEBUG:numba.core.byteflow:block_infos State(pc_initial=0 nstack_initial=0):\n",
      "AdaptBlockInfo(insts=((0, {}), (2, {'res': '$x2.0'}), (4, {'res': '$const4.1'}), (6, {'index': '$const4.1', 'target': '$x2.0', 'res': '$6binary_subscr.2'}), (8, {'res': '$x8.3'}), (10, {'res': '$const10.4'}), (12, {'index': '$const10.4', 'target': '$x8.3', 'res': '$12binary_subscr.5'}), (14, {'lhs': '$6binary_subscr.2', 'rhs': '$12binary_subscr.5', 'res': '$14compare_op.6'}), (16, {'res': '$x16.7'}), (18, {'res': '$const18.8'}), (20, {'index': '$const18.8', 'target': '$x16.7', 'res': '$20binary_subscr.9'}), (22, {'res': '$x22.10'}), (24, {'res': '$const24.11'}), (26, {'index': '$const24.11', 'target': '$x22.10', 'res': '$26binary_subscr.12'}), (28, {'lhs': '$20binary_subscr.9', 'rhs': '$26binary_subscr.12', 'res': '$28compare_op.13'}), (30, {'lhs': '$14compare_op.6', 'rhs': '$28compare_op.13', 'res': '$30binary_and.14'}), (32, {'retval': '$30binary_and.14', 'castval': '$32return_value.15'})), outgoing_phis={}, blockstack=(), active_try_block=None, outgoing_edgepushed={})\n",
      "DEBUG:numba.core.interpreter:label 0:\n",
      "    x = arg(0, name=x)                       ['x']\n",
      "    $const4.1 = const(int, 0)                ['$const4.1']\n",
      "    $6binary_subscr.2 = getitem(value=x, index=$const4.1, fn=<built-in function getitem>) ['$6binary_subscr.2', '$const4.1', 'x']\n",
      "    $const10.4 = const(int, -1)              ['$const10.4']\n",
      "    $12binary_subscr.5 = getitem(value=x, index=$const10.4, fn=<built-in function getitem>) ['$12binary_subscr.5', '$const10.4', 'x']\n",
      "    $14compare_op.6 = $6binary_subscr.2 < $12binary_subscr.5 ['$12binary_subscr.5', '$14compare_op.6', '$6binary_subscr.2']\n",
      "    $const18.8 = const(int, 0)               ['$const18.8']\n",
      "    $20binary_subscr.9 = getitem(value=x, index=$const18.8, fn=<built-in function getitem>) ['$20binary_subscr.9', '$const18.8', 'x']\n",
      "    $const24.11 = const(int, 1)              ['$const24.11']\n",
      "    $26binary_subscr.12 = getitem(value=x, index=$const24.11, fn=<built-in function getitem>) ['$26binary_subscr.12', '$const24.11', 'x']\n",
      "    $28compare_op.13 = $20binary_subscr.9 <= $26binary_subscr.12 ['$20binary_subscr.9', '$26binary_subscr.12', '$28compare_op.13']\n",
      "    $30binary_and.14 = $14compare_op.6 & $28compare_op.13 ['$14compare_op.6', '$28compare_op.13', '$30binary_and.14']\n",
      "    $32return_value.15 = cast(value=$30binary_and.14) ['$30binary_and.14', '$32return_value.15']\n",
      "    return $32return_value.15                ['$32return_value.15']\n",
      "\n",
      "DEBUG:numba.core.byteflow:bytecode dump:\n",
      ">          0\tNOP(arg=None, lineno=1039)\n",
      "           2\tLOAD_FAST(arg=0, lineno=1042)\n",
      "           4\tLOAD_CONST(arg=1, lineno=1042)\n",
      "           6\tBINARY_SUBSCR(arg=None, lineno=1042)\n",
      "           8\tLOAD_FAST(arg=0, lineno=1042)\n",
      "          10\tLOAD_CONST(arg=2, lineno=1042)\n",
      "          12\tBINARY_SUBSCR(arg=None, lineno=1042)\n",
      "          14\tCOMPARE_OP(arg=4, lineno=1042)\n",
      "          16\tLOAD_FAST(arg=0, lineno=1042)\n",
      "          18\tLOAD_CONST(arg=1, lineno=1042)\n",
      "          20\tBINARY_SUBSCR(arg=None, lineno=1042)\n",
      "          22\tLOAD_FAST(arg=0, lineno=1042)\n",
      "          24\tLOAD_CONST(arg=3, lineno=1042)\n",
      "          26\tBINARY_SUBSCR(arg=None, lineno=1042)\n",
      "          28\tCOMPARE_OP(arg=5, lineno=1042)\n",
      "          30\tBINARY_AND(arg=None, lineno=1042)\n",
      "          32\tRETURN_VALUE(arg=None, lineno=1042)\n",
      "DEBUG:numba.core.byteflow:pending: deque([State(pc_initial=0 nstack_initial=0)])\n",
      "DEBUG:numba.core.byteflow:stack: []\n",
      "DEBUG:numba.core.byteflow:state.pc_initial: State(pc_initial=0 nstack_initial=0)\n",
      "DEBUG:numba.core.byteflow:dispatch pc=0, inst=NOP(arg=None, lineno=1039)\n",
      "DEBUG:numba.core.byteflow:stack []\n",
      "DEBUG:numba.core.byteflow:dispatch pc=2, inst=LOAD_FAST(arg=0, lineno=1042)\n",
      "DEBUG:numba.core.byteflow:stack []\n",
      "DEBUG:numba.core.byteflow:dispatch pc=4, inst=LOAD_CONST(arg=1, lineno=1042)\n",
      "DEBUG:numba.core.byteflow:stack ['$x2.0']\n",
      "DEBUG:numba.core.byteflow:dispatch pc=6, inst=BINARY_SUBSCR(arg=None, lineno=1042)\n",
      "DEBUG:numba.core.byteflow:stack ['$x2.0', '$const4.1']\n",
      "DEBUG:numba.core.byteflow:dispatch pc=8, inst=LOAD_FAST(arg=0, lineno=1042)\n",
      "DEBUG:numba.core.byteflow:stack ['$6binary_subscr.2']\n",
      "DEBUG:numba.core.byteflow:dispatch pc=10, inst=LOAD_CONST(arg=2, lineno=1042)\n",
      "DEBUG:numba.core.byteflow:stack ['$6binary_subscr.2', '$x8.3']\n",
      "DEBUG:numba.core.byteflow:dispatch pc=12, inst=BINARY_SUBSCR(arg=None, lineno=1042)\n",
      "DEBUG:numba.core.byteflow:stack ['$6binary_subscr.2', '$x8.3', '$const10.4']\n",
      "DEBUG:numba.core.byteflow:dispatch pc=14, inst=COMPARE_OP(arg=4, lineno=1042)\n",
      "DEBUG:numba.core.byteflow:stack ['$6binary_subscr.2', '$12binary_subscr.5']\n",
      "DEBUG:numba.core.byteflow:dispatch pc=16, inst=LOAD_FAST(arg=0, lineno=1042)\n",
      "DEBUG:numba.core.byteflow:stack ['$14compare_op.6']\n",
      "DEBUG:numba.core.byteflow:dispatch pc=18, inst=LOAD_CONST(arg=1, lineno=1042)\n",
      "DEBUG:numba.core.byteflow:stack ['$14compare_op.6', '$x16.7']\n",
      "DEBUG:numba.core.byteflow:dispatch pc=20, inst=BINARY_SUBSCR(arg=None, lineno=1042)\n",
      "DEBUG:numba.core.byteflow:stack ['$14compare_op.6', '$x16.7', '$const18.8']\n",
      "DEBUG:numba.core.byteflow:dispatch pc=22, inst=LOAD_FAST(arg=0, lineno=1042)\n",
      "DEBUG:numba.core.byteflow:stack ['$14compare_op.6', '$20binary_subscr.9']\n",
      "DEBUG:numba.core.byteflow:dispatch pc=24, inst=LOAD_CONST(arg=3, lineno=1042)\n",
      "DEBUG:numba.core.byteflow:stack ['$14compare_op.6', '$20binary_subscr.9', '$x22.10']\n",
      "DEBUG:numba.core.byteflow:dispatch pc=26, inst=BINARY_SUBSCR(arg=None, lineno=1042)\n",
      "DEBUG:numba.core.byteflow:stack ['$14compare_op.6', '$20binary_subscr.9', '$x22.10', '$const24.11']\n",
      "DEBUG:numba.core.byteflow:dispatch pc=28, inst=COMPARE_OP(arg=5, lineno=1042)\n",
      "DEBUG:numba.core.byteflow:stack ['$14compare_op.6', '$20binary_subscr.9', '$26binary_subscr.12']\n",
      "DEBUG:numba.core.byteflow:dispatch pc=30, inst=BINARY_AND(arg=None, lineno=1042)\n",
      "DEBUG:numba.core.byteflow:stack ['$14compare_op.6', '$28compare_op.13']\n",
      "DEBUG:numba.core.byteflow:dispatch pc=32, inst=RETURN_VALUE(arg=None, lineno=1042)\n",
      "DEBUG:numba.core.byteflow:stack ['$30binary_and.14']\n",
      "DEBUG:numba.core.byteflow:end state. edges=[]\n",
      "DEBUG:numba.core.byteflow:-------------------------Prune PHIs-------------------------\n",
      "DEBUG:numba.core.byteflow:Used_phis: defaultdict(<class 'set'>, {State(pc_initial=0 nstack_initial=0): set()})\n",
      "DEBUG:numba.core.byteflow:defmap: {}\n",
      "DEBUG:numba.core.byteflow:phismap: defaultdict(<class 'set'>, {})\n",
      "DEBUG:numba.core.byteflow:changing phismap: defaultdict(<class 'set'>, {})\n",
      "DEBUG:numba.core.byteflow:keep phismap: {}\n",
      "DEBUG:numba.core.byteflow:new_out: defaultdict(<class 'dict'>, {})\n",
      "DEBUG:numba.core.byteflow:----------------------DONE Prune PHIs-----------------------\n",
      "DEBUG:numba.core.byteflow:block_infos State(pc_initial=0 nstack_initial=0):\n",
      "AdaptBlockInfo(insts=((0, {}), (2, {'res': '$x2.0'}), (4, {'res': '$const4.1'}), (6, {'index': '$const4.1', 'target': '$x2.0', 'res': '$6binary_subscr.2'}), (8, {'res': '$x8.3'}), (10, {'res': '$const10.4'}), (12, {'index': '$const10.4', 'target': '$x8.3', 'res': '$12binary_subscr.5'}), (14, {'lhs': '$6binary_subscr.2', 'rhs': '$12binary_subscr.5', 'res': '$14compare_op.6'}), (16, {'res': '$x16.7'}), (18, {'res': '$const18.8'}), (20, {'index': '$const18.8', 'target': '$x16.7', 'res': '$20binary_subscr.9'}), (22, {'res': '$x22.10'}), (24, {'res': '$const24.11'}), (26, {'index': '$const24.11', 'target': '$x22.10', 'res': '$26binary_subscr.12'}), (28, {'lhs': '$20binary_subscr.9', 'rhs': '$26binary_subscr.12', 'res': '$28compare_op.13'}), (30, {'lhs': '$14compare_op.6', 'rhs': '$28compare_op.13', 'res': '$30binary_and.14'}), (32, {'retval': '$30binary_and.14', 'castval': '$32return_value.15'})), outgoing_phis={}, blockstack=(), active_try_block=None, outgoing_edgepushed={})\n",
      "DEBUG:numba.core.interpreter:label 0:\n",
      "    x = arg(0, name=x)                       ['x']\n",
      "    $const4.1 = const(int, 0)                ['$const4.1']\n",
      "    $6binary_subscr.2 = getitem(value=x, index=$const4.1, fn=<built-in function getitem>) ['$6binary_subscr.2', '$const4.1', 'x']\n",
      "    $const10.4 = const(int, -1)              ['$const10.4']\n",
      "    $12binary_subscr.5 = getitem(value=x, index=$const10.4, fn=<built-in function getitem>) ['$12binary_subscr.5', '$const10.4', 'x']\n",
      "    $14compare_op.6 = $6binary_subscr.2 > $12binary_subscr.5 ['$12binary_subscr.5', '$14compare_op.6', '$6binary_subscr.2']\n",
      "    $const18.8 = const(int, 0)               ['$const18.8']\n",
      "    $20binary_subscr.9 = getitem(value=x, index=$const18.8, fn=<built-in function getitem>) ['$20binary_subscr.9', '$const18.8', 'x']\n",
      "    $const24.11 = const(int, 1)              ['$const24.11']\n",
      "    $26binary_subscr.12 = getitem(value=x, index=$const24.11, fn=<built-in function getitem>) ['$26binary_subscr.12', '$const24.11', 'x']\n",
      "    $28compare_op.13 = $20binary_subscr.9 >= $26binary_subscr.12 ['$20binary_subscr.9', '$26binary_subscr.12', '$28compare_op.13']\n",
      "    $30binary_and.14 = $14compare_op.6 & $28compare_op.13 ['$14compare_op.6', '$28compare_op.13', '$30binary_and.14']\n",
      "    $32return_value.15 = cast(value=$30binary_and.14) ['$30binary_and.14', '$32return_value.15']\n",
      "    return $32return_value.15                ['$32return_value.15']\n",
      "\n",
      "DEBUG:numba.core.byteflow:bytecode dump:\n",
      ">          0\tNOP(arg=None, lineno=1045)\n",
      "           2\tLOAD_FAST(arg=0, lineno=1048)\n",
      "           4\tLOAD_CONST(arg=1, lineno=1048)\n",
      "           6\tBINARY_SUBSCR(arg=None, lineno=1048)\n",
      "           8\tLOAD_FAST(arg=0, lineno=1048)\n",
      "          10\tLOAD_CONST(arg=2, lineno=1048)\n",
      "          12\tBINARY_SUBSCR(arg=None, lineno=1048)\n",
      "          14\tCOMPARE_OP(arg=0, lineno=1048)\n",
      "          16\tLOAD_FAST(arg=0, lineno=1048)\n",
      "          18\tLOAD_CONST(arg=1, lineno=1048)\n",
      "          20\tBINARY_SUBSCR(arg=None, lineno=1048)\n",
      "          22\tLOAD_FAST(arg=0, lineno=1048)\n",
      "          24\tLOAD_CONST(arg=3, lineno=1048)\n",
      "          26\tBINARY_SUBSCR(arg=None, lineno=1048)\n",
      "          28\tCOMPARE_OP(arg=1, lineno=1048)\n",
      "          30\tBINARY_AND(arg=None, lineno=1048)\n",
      "          32\tRETURN_VALUE(arg=None, lineno=1048)\n",
      "DEBUG:numba.core.byteflow:pending: deque([State(pc_initial=0 nstack_initial=0)])\n",
      "DEBUG:numba.core.byteflow:stack: []\n",
      "DEBUG:numba.core.byteflow:state.pc_initial: State(pc_initial=0 nstack_initial=0)\n",
      "DEBUG:numba.core.byteflow:dispatch pc=0, inst=NOP(arg=None, lineno=1045)\n",
      "DEBUG:numba.core.byteflow:stack []\n",
      "DEBUG:numba.core.byteflow:dispatch pc=2, inst=LOAD_FAST(arg=0, lineno=1048)\n",
      "DEBUG:numba.core.byteflow:stack []\n",
      "DEBUG:numba.core.byteflow:dispatch pc=4, inst=LOAD_CONST(arg=1, lineno=1048)\n",
      "DEBUG:numba.core.byteflow:stack ['$x2.0']\n",
      "DEBUG:numba.core.byteflow:dispatch pc=6, inst=BINARY_SUBSCR(arg=None, lineno=1048)\n",
      "DEBUG:numba.core.byteflow:stack ['$x2.0', '$const4.1']\n",
      "DEBUG:numba.core.byteflow:dispatch pc=8, inst=LOAD_FAST(arg=0, lineno=1048)\n",
      "DEBUG:numba.core.byteflow:stack ['$6binary_subscr.2']\n",
      "DEBUG:numba.core.byteflow:dispatch pc=10, inst=LOAD_CONST(arg=2, lineno=1048)\n",
      "DEBUG:numba.core.byteflow:stack ['$6binary_subscr.2', '$x8.3']\n",
      "DEBUG:numba.core.byteflow:dispatch pc=12, inst=BINARY_SUBSCR(arg=None, lineno=1048)\n",
      "DEBUG:numba.core.byteflow:stack ['$6binary_subscr.2', '$x8.3', '$const10.4']\n",
      "DEBUG:numba.core.byteflow:dispatch pc=14, inst=COMPARE_OP(arg=0, lineno=1048)\n",
      "DEBUG:numba.core.byteflow:stack ['$6binary_subscr.2', '$12binary_subscr.5']\n",
      "DEBUG:numba.core.byteflow:dispatch pc=16, inst=LOAD_FAST(arg=0, lineno=1048)\n",
      "DEBUG:numba.core.byteflow:stack ['$14compare_op.6']\n",
      "DEBUG:numba.core.byteflow:dispatch pc=18, inst=LOAD_CONST(arg=1, lineno=1048)\n",
      "DEBUG:numba.core.byteflow:stack ['$14compare_op.6', '$x16.7']\n",
      "DEBUG:numba.core.byteflow:dispatch pc=20, inst=BINARY_SUBSCR(arg=None, lineno=1048)\n",
      "DEBUG:numba.core.byteflow:stack ['$14compare_op.6', '$x16.7', '$const18.8']\n",
      "DEBUG:numba.core.byteflow:dispatch pc=22, inst=LOAD_FAST(arg=0, lineno=1048)\n",
      "DEBUG:numba.core.byteflow:stack ['$14compare_op.6', '$20binary_subscr.9']\n",
      "DEBUG:numba.core.byteflow:dispatch pc=24, inst=LOAD_CONST(arg=3, lineno=1048)\n",
      "DEBUG:numba.core.byteflow:stack ['$14compare_op.6', '$20binary_subscr.9', '$x22.10']\n",
      "DEBUG:numba.core.byteflow:dispatch pc=26, inst=BINARY_SUBSCR(arg=None, lineno=1048)\n",
      "DEBUG:numba.core.byteflow:stack ['$14compare_op.6', '$20binary_subscr.9', '$x22.10', '$const24.11']\n",
      "DEBUG:numba.core.byteflow:dispatch pc=28, inst=COMPARE_OP(arg=1, lineno=1048)\n",
      "DEBUG:numba.core.byteflow:stack ['$14compare_op.6', '$20binary_subscr.9', '$26binary_subscr.12']\n",
      "DEBUG:numba.core.byteflow:dispatch pc=30, inst=BINARY_AND(arg=None, lineno=1048)\n",
      "DEBUG:numba.core.byteflow:stack ['$14compare_op.6', '$28compare_op.13']\n",
      "DEBUG:numba.core.byteflow:dispatch pc=32, inst=RETURN_VALUE(arg=None, lineno=1048)\n",
      "DEBUG:numba.core.byteflow:stack ['$30binary_and.14']\n",
      "DEBUG:numba.core.byteflow:end state. edges=[]\n",
      "DEBUG:numba.core.byteflow:-------------------------Prune PHIs-------------------------\n",
      "DEBUG:numba.core.byteflow:Used_phis: defaultdict(<class 'set'>, {State(pc_initial=0 nstack_initial=0): set()})\n",
      "DEBUG:numba.core.byteflow:defmap: {}\n",
      "DEBUG:numba.core.byteflow:phismap: defaultdict(<class 'set'>, {})\n",
      "DEBUG:numba.core.byteflow:changing phismap: defaultdict(<class 'set'>, {})\n",
      "DEBUG:numba.core.byteflow:keep phismap: {}\n",
      "DEBUG:numba.core.byteflow:new_out: defaultdict(<class 'dict'>, {})\n",
      "DEBUG:numba.core.byteflow:----------------------DONE Prune PHIs-----------------------\n",
      "DEBUG:numba.core.byteflow:block_infos State(pc_initial=0 nstack_initial=0):\n",
      "AdaptBlockInfo(insts=((0, {}), (2, {'res': '$x2.0'}), (4, {'res': '$const4.1'}), (6, {'index': '$const4.1', 'target': '$x2.0', 'res': '$6binary_subscr.2'}), (8, {'res': '$x8.3'}), (10, {'res': '$const10.4'}), (12, {'index': '$const10.4', 'target': '$x8.3', 'res': '$12binary_subscr.5'}), (14, {'lhs': '$6binary_subscr.2', 'rhs': '$12binary_subscr.5', 'res': '$14compare_op.6'}), (16, {'res': '$x16.7'}), (18, {'res': '$const18.8'}), (20, {'index': '$const18.8', 'target': '$x16.7', 'res': '$20binary_subscr.9'}), (22, {'res': '$x22.10'}), (24, {'res': '$const24.11'}), (26, {'index': '$const24.11', 'target': '$x22.10', 'res': '$26binary_subscr.12'}), (28, {'lhs': '$20binary_subscr.9', 'rhs': '$26binary_subscr.12', 'res': '$28compare_op.13'}), (30, {'lhs': '$14compare_op.6', 'rhs': '$28compare_op.13', 'res': '$30binary_and.14'}), (32, {'retval': '$30binary_and.14', 'castval': '$32return_value.15'})), outgoing_phis={}, blockstack=(), active_try_block=None, outgoing_edgepushed={})\n",
      "DEBUG:numba.core.interpreter:label 0:\n",
      "    x = arg(0, name=x)                       ['x']\n",
      "    $const4.1 = const(int, 0)                ['$const4.1']\n",
      "    $6binary_subscr.2 = getitem(value=x, index=$const4.1, fn=<built-in function getitem>) ['$6binary_subscr.2', '$const4.1', 'x']\n",
      "    $const10.4 = const(int, -1)              ['$const10.4']\n",
      "    $12binary_subscr.5 = getitem(value=x, index=$const10.4, fn=<built-in function getitem>) ['$12binary_subscr.5', '$const10.4', 'x']\n",
      "    $14compare_op.6 = $6binary_subscr.2 < $12binary_subscr.5 ['$12binary_subscr.5', '$14compare_op.6', '$6binary_subscr.2']\n",
      "    $const18.8 = const(int, 0)               ['$const18.8']\n",
      "    $20binary_subscr.9 = getitem(value=x, index=$const18.8, fn=<built-in function getitem>) ['$20binary_subscr.9', '$const18.8', 'x']\n",
      "    $const24.11 = const(int, 1)              ['$const24.11']\n",
      "    $26binary_subscr.12 = getitem(value=x, index=$const24.11, fn=<built-in function getitem>) ['$26binary_subscr.12', '$const24.11', 'x']\n",
      "    $28compare_op.13 = $20binary_subscr.9 <= $26binary_subscr.12 ['$20binary_subscr.9', '$26binary_subscr.12', '$28compare_op.13']\n",
      "    $30binary_and.14 = $14compare_op.6 & $28compare_op.13 ['$14compare_op.6', '$28compare_op.13', '$30binary_and.14']\n",
      "    $32return_value.15 = cast(value=$30binary_and.14) ['$30binary_and.14', '$32return_value.15']\n",
      "    return $32return_value.15                ['$32return_value.15']\n",
      "\n",
      "INFO:ljs_base:{'train': {'log_interval': 200, 'eval_interval': 10, 'seed': 1234, 'epochs': 1, 'learning_rate': 0.0002, 'betas': [0.8, 0.99], 'eps': 1e-09, 'batch_size': 16, 'fp16_run': True, 'lr_decay': 0.999875, 'segment_size': 8192, 'init_lr_ratio': 1, 'warmup_epochs': 0, 'c_mel': 45, 'c_kl': 1.0}, 'data': {'training_files': 'filelists/ljs_audio_test_filelist.txt', 'validation_files': 'filelists/ljs_audio_val_filelist.txt', 'text_cleaners': ['english_cleaners2'], 'max_wav_value': 32768.0, 'bits_per_sample': 16, 'sampling_rate': 24000, 'filter_length': 1024, 'hop_length': 256, 'win_length': 1024, 'n_mel_channels': 80, 'mel_fmin': 0.0, 'mel_fmax': None, 'add_blank': True, 'n_speakers': 0, 'cleaned_text': True}, 'model': {'inter_channels': 192, 'hidden_channels': 192, 'filter_channels': 768, 'n_heads': 2, 'n_layers': 6, 'kernel_size': 3, 'p_dropout': 0.1, 'resblock': '1', 'resblock_kernel_sizes': [3, 7, 11], 'resblock_dilation_sizes': [[1, 3, 5], [1, 3, 5], [1, 3, 5]], 'upsample_rates': [8, 8, 2, 2], 'upsample_initial_channel': 512, 'upsample_kernel_sizes': [16, 16, 4, 4], 'n_layers_q': 3, 'use_spectral_norm': False}, 'model_dir': './logs\\\\ljs_base'}\n"
     ]
    },
    {
     "name": "stderr",
     "output_type": "stream",
     "text": [
      "[W socket.cpp:436] [c10d] The server socket has failed to bind to [DESKTOP-20AASNG]:8000 (system error: 10048 - 通常、各ソケット アドレスに対してプロトコル、ネットワーク アドレス、またはポートのどれか 1 つのみを使用できます。).\n",
      "[W socket.cpp:436] [c10d] The server socket has failed to bind to DESKTOP-20AASNG:8000 (system error: 10013 - アクセス許可で禁じられた方法でソケットにアクセスしようとしました。).\n",
      "[E socket.cpp:472] [c10d] The server socket has failed to listen on any local network address.\n",
      "Traceback (most recent call last):\n",
      "  File \"C:\\Users\\ken\\jikken\\Jikken5\\train.py\", line 304, in <module>\n",
      "    main()\n",
      "  File \"C:\\Users\\ken\\jikken\\Jikken5\\train.py\", line 51, in main\n",
      "    mp.spawn(run, nprocs=n_gpus, args=(n_gpus, hps,))\n",
      "  File \"C:\\Users\\ken\\jikken\\.venv\\lib\\site-packages\\torch\\multiprocessing\\spawn.py\", line 246, in spawn\n",
      "    return start_processes(fn, args, nprocs, join, daemon, start_method=\"spawn\")\n",
      "  File \"C:\\Users\\ken\\jikken\\.venv\\lib\\site-packages\\torch\\multiprocessing\\spawn.py\", line 202, in start_processes\n",
      "    while not context.join():\n",
      "  File \"C:\\Users\\ken\\jikken\\.venv\\lib\\site-packages\\torch\\multiprocessing\\spawn.py\", line 163, in join\n",
      "    raise ProcessRaisedException(msg, error_index, failed_process.pid)\n",
      "torch.multiprocessing.spawn.ProcessRaisedException: \n",
      "\n",
      "-- Process 0 terminated with the following error:\n",
      "Traceback (most recent call last):\n",
      "  File \"C:\\Users\\ken\\jikken\\.venv\\lib\\site-packages\\torch\\multiprocessing\\spawn.py\", line 74, in _wrap\n",
      "    fn(i, *args)\n",
      "  File \"C:\\Users\\ken\\jikken\\Jikken5\\train.py\", line 63, in run\n",
      "    dist.init_process_group(\n",
      "  File \"C:\\Users\\ken\\jikken\\.venv\\lib\\site-packages\\torch\\distributed\\c10d_logger.py\", line 74, in wrapper\n",
      "    func_return = func(*args, **kwargs)\n",
      "  File \"C:\\Users\\ken\\jikken\\.venv\\lib\\site-packages\\torch\\distributed\\distributed_c10d.py\", line 1141, in init_process_group\n",
      "    store, rank, world_size = next(rendezvous_iterator)\n",
      "  File \"C:\\Users\\ken\\jikken\\.venv\\lib\\site-packages\\torch\\distributed\\rendezvous.py\", line 196, in _tcp_rendezvous_handler\n",
      "    store = _create_c10d_store(result.hostname, result.port, rank, world_size, timeout)\n",
      "  File \"C:\\Users\\ken\\jikken\\.venv\\lib\\site-packages\\torch\\distributed\\rendezvous.py\", line 172, in _create_c10d_store\n",
      "    return TCPStore(\n",
      "RuntimeError\n",
      "\n"
     ]
    }
   ],
   "source": [
    "! python train.py -c configs/ljs_base.json -m ljs_base"
   ]
  },
  {
   "cell_type": "code",
   "execution_count": null,
   "outputs": [],
   "source": [],
   "metadata": {
    "collapsed": false
   }
  }
 ],
 "metadata": {
  "accelerator": "GPU",
  "colab": {
   "provenance": [],
   "gpuType": "T4"
  },
  "kernelspec": {
   "name": "python3",
   "language": "python",
   "display_name": "Python 3 (ipykernel)"
  }
 },
 "nbformat": 4,
 "nbformat_minor": 0
}
