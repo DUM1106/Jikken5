{
 "cells": [
  {
   "cell_type": "markdown",
   "metadata": {
    "id": "TxHb4KGqW0kd"
   },
   "source": [
    "Google Driveを使えるようにする"
   ]
  },
  {
   "cell_type": "code",
   "execution_count": null,
   "metadata": {
    "id": "OgQBzkppWzF-"
   },
   "outputs": [],
   "source": [
    "from google.colab import drive"
   ]
  },
  {
   "cell_type": "code",
   "execution_count": null,
   "metadata": {
    "colab": {
     "base_uri": "https://localhost:8080/"
    },
    "id": "x69n9V55sztq",
    "outputId": "53327992-ee2b-4271-dbb5-6614742ab656"
   },
   "outputs": [],
   "source": [
    "drive.mount('/content/drive',  force_remount=True)"
   ]
  },
  {
   "cell_type": "markdown",
   "metadata": {
    "id": "pbiUq94bXFOO"
   },
   "source": [
    "カレントディレクトリを確認する"
   ]
  },
  {
   "cell_type": "code",
   "execution_count": null,
   "metadata": {
    "colab": {
     "base_uri": "https://localhost:8080/",
     "height": 35
    },
    "id": "f3SX7-qOWXlJ",
    "outputId": "3c491467-b625-4ab2-9e66-3d153ec6c437"
   },
   "outputs": [],
   "source": [
    "pwd"
   ]
  },
  {
   "cell_type": "markdown",
   "metadata": {
    "id": "n5fr5CkzW8nV"
   },
   "source": [
    "対象のディレクトリに移動する（\"/content/drive/My Drive/\" があなたのドライブのホームディレクトリ）\n",
    "\n",
    "この例の場合，ホームにAI_Experimentというフォルダを作り，その下にダウンロードしたフォルダを配置している"
   ]
  },
  {
   "cell_type": "code",
   "execution_count": null,
   "metadata": {
    "colab": {
     "base_uri": "https://localhost:8080/"
    },
    "id": "oD7f7_lOs18H",
    "outputId": "6d346f13-9b48-48ba-b21e-9c6f34629f20"
   },
   "outputs": [],
   "source": [
    "cd /content/drive/My Drive/AI_Experiment/Jikken5"
   ]
  },
  {
   "cell_type": "code",
   "execution_count": null,
   "metadata": {
    "colab": {
     "base_uri": "https://localhost:8080/"
    },
    "id": "Vnx69X3htCqt",
    "outputId": "bb8b2599-375d-4824-f03c-06a8ba96f3ad"
   },
   "outputs": [],
   "source": [
    "ls"
   ]
  },
  {
   "cell_type": "code",
   "execution_count": null,
   "metadata": {
    "colab": {
     "base_uri": "https://localhost:8080/"
    },
    "id": "s1rpe7vFugDi",
    "outputId": "4743a934-3efa-42ce-a04d-99a76f22978a"
   },
   "outputs": [],
   "source": [
    "!git clone https://github.com/DUM1106/Jikken5.git"
   ]
  },
  {
   "cell_type": "code",
   "execution_count": null,
   "metadata": {
    "colab": {
     "base_uri": "https://localhost:8080/"
    },
    "id": "CRSWTEpL-5Qj",
    "outputId": "87bfc643-c2c5-4bf8-c739-8060e8da0a76"
   },
   "outputs": [],
   "source": [
    "cd Jikken5"
   ]
  },
  {
   "cell_type": "code",
   "execution_count": null,
   "metadata": {
    "colab": {
     "base_uri": "https://localhost:8080/"
    },
    "id": "VfWKOo8H-03R",
    "outputId": "f7d3be4f-1789-4df6-b65e-f2afaea7e90e"
   },
   "outputs": [],
   "source": [
    "!git pull origin colab"
   ]
  },
  {
   "cell_type": "code",
   "execution_count": null,
   "metadata": {
    "colab": {
     "base_uri": "https://localhost:8080/"
    },
    "id": "Sut79bThP9Z_",
    "outputId": "52ab3c21-fd70-43a9-b659-3eb14b54ae5d"
   },
   "outputs": [],
   "source": [
    "!git checkout colab"
   ]
  },
  {
   "cell_type": "code",
   "execution_count": 9,
   "metadata": {
    "colab": {
     "base_uri": "https://localhost:8080/"
    },
    "id": "MYekeXqycLMU",
    "outputId": "2a1b0424-bbfb-49f5-ccad-3a1684b59244",
    "ExecuteTime": {
     "end_time": "2023-11-25T01:27:58.176083100Z",
     "start_time": "2023-11-25T01:27:47.524597900Z"
    }
   },
   "outputs": [
    {
     "name": "stdout",
     "output_type": "stream",
     "text": [
      "Collecting git+https://github.com/UKPLab/sentence-transformers.git\n",
      "  Cloning https://github.com/UKPLab/sentence-transformers.git to c:\\users\\ken\\appdata\\local\\temp\\pip-req-build-pdxn2u1t\n",
      "  Resolved https://github.com/UKPLab/sentence-transformers.git to commit c5f93f70eca933c78695c5bc686ceda59651ae3b\n",
      "  Installing build dependencies: started\n",
      "  Installing build dependencies: finished with status 'done'\n",
      "  Getting requirements to build wheel: started\n",
      "  Getting requirements to build wheel: finished with status 'done'\n",
      "  Preparing metadata (pyproject.toml): started\n",
      "  Preparing metadata (pyproject.toml): finished with status 'done'\n",
      "Requirement already satisfied: transformers<5.0.0,>=4.6.0 in c:\\users\\ken\\jikken\\jikken5\\.venv\\lib\\site-packages (from sentence-transformers==2.2.2) (4.35.2)\n",
      "Requirement already satisfied: tqdm in c:\\users\\ken\\jikken\\jikken5\\.venv\\lib\\site-packages (from sentence-transformers==2.2.2) (4.66.1)\n",
      "Requirement already satisfied: torch>=1.6.0 in c:\\users\\ken\\jikken\\jikken5\\.venv\\lib\\site-packages (from sentence-transformers==2.2.2) (2.1.1+cu118)\n",
      "Requirement already satisfied: torchvision in c:\\users\\ken\\jikken\\jikken5\\.venv\\lib\\site-packages (from sentence-transformers==2.2.2) (0.16.1)\n",
      "Requirement already satisfied: numpy in c:\\users\\ken\\jikken\\jikken5\\.venv\\lib\\site-packages (from sentence-transformers==2.2.2) (1.26.2)\n",
      "Requirement already satisfied: scikit-learn in c:\\users\\ken\\jikken\\jikken5\\.venv\\lib\\site-packages (from sentence-transformers==2.2.2) (1.3.2)\n",
      "Requirement already satisfied: scipy in c:\\users\\ken\\jikken\\jikken5\\.venv\\lib\\site-packages (from sentence-transformers==2.2.2) (1.11.4)\n",
      "Requirement already satisfied: nltk in c:\\users\\ken\\jikken\\jikken5\\.venv\\lib\\site-packages (from sentence-transformers==2.2.2) (3.8.1)\n",
      "Requirement already satisfied: sentencepiece in c:\\users\\ken\\jikken\\jikken5\\.venv\\lib\\site-packages (from sentence-transformers==2.2.2) (0.1.99)\n",
      "Requirement already satisfied: huggingface-hub>=0.4.0 in c:\\users\\ken\\jikken\\jikken5\\.venv\\lib\\site-packages (from sentence-transformers==2.2.2) (0.19.4)\n",
      "Requirement already satisfied: filelock in c:\\users\\ken\\jikken\\jikken5\\.venv\\lib\\site-packages (from huggingface-hub>=0.4.0->sentence-transformers==2.2.2) (3.13.1)\n",
      "Requirement already satisfied: fsspec>=2023.5.0 in c:\\users\\ken\\jikken\\jikken5\\.venv\\lib\\site-packages (from huggingface-hub>=0.4.0->sentence-transformers==2.2.2) (2023.10.0)\n",
      "Requirement already satisfied: requests in c:\\users\\ken\\jikken\\jikken5\\.venv\\lib\\site-packages (from huggingface-hub>=0.4.0->sentence-transformers==2.2.2) (2.31.0)\n",
      "Requirement already satisfied: pyyaml>=5.1 in c:\\users\\ken\\jikken\\jikken5\\.venv\\lib\\site-packages (from huggingface-hub>=0.4.0->sentence-transformers==2.2.2) (6.0.1)\n",
      "Requirement already satisfied: typing-extensions>=3.7.4.3 in c:\\users\\ken\\jikken\\jikken5\\.venv\\lib\\site-packages (from huggingface-hub>=0.4.0->sentence-transformers==2.2.2) (4.8.0)\n",
      "Requirement already satisfied: packaging>=20.9 in c:\\users\\ken\\jikken\\jikken5\\.venv\\lib\\site-packages (from huggingface-hub>=0.4.0->sentence-transformers==2.2.2) (23.2)\n",
      "Requirement already satisfied: sympy in c:\\users\\ken\\jikken\\jikken5\\.venv\\lib\\site-packages (from torch>=1.6.0->sentence-transformers==2.2.2) (1.12)\n",
      "Requirement already satisfied: networkx in c:\\users\\ken\\jikken\\jikken5\\.venv\\lib\\site-packages (from torch>=1.6.0->sentence-transformers==2.2.2) (3.2.1)\n",
      "Requirement already satisfied: jinja2 in c:\\users\\ken\\jikken\\jikken5\\.venv\\lib\\site-packages (from torch>=1.6.0->sentence-transformers==2.2.2) (3.1.2)\n",
      "Requirement already satisfied: colorama in c:\\users\\ken\\jikken\\jikken5\\.venv\\lib\\site-packages (from tqdm->sentence-transformers==2.2.2) (0.4.6)\n",
      "Requirement already satisfied: regex!=2019.12.17 in c:\\users\\ken\\jikken\\jikken5\\.venv\\lib\\site-packages (from transformers<5.0.0,>=4.6.0->sentence-transformers==2.2.2) (2023.10.3)\n",
      "Requirement already satisfied: tokenizers<0.19,>=0.14 in c:\\users\\ken\\jikken\\jikken5\\.venv\\lib\\site-packages (from transformers<5.0.0,>=4.6.0->sentence-transformers==2.2.2) (0.15.0)\n",
      "Requirement already satisfied: safetensors>=0.3.1 in c:\\users\\ken\\jikken\\jikken5\\.venv\\lib\\site-packages (from transformers<5.0.0,>=4.6.0->sentence-transformers==2.2.2) (0.4.0)\n",
      "Requirement already satisfied: click in c:\\users\\ken\\jikken\\jikken5\\.venv\\lib\\site-packages (from nltk->sentence-transformers==2.2.2) (8.1.7)\n",
      "Requirement already satisfied: joblib in c:\\users\\ken\\jikken\\jikken5\\.venv\\lib\\site-packages (from nltk->sentence-transformers==2.2.2) (1.3.2)\n",
      "Requirement already satisfied: threadpoolctl>=2.0.0 in c:\\users\\ken\\jikken\\jikken5\\.venv\\lib\\site-packages (from scikit-learn->sentence-transformers==2.2.2) (3.2.0)\n",
      "Requirement already satisfied: pillow!=8.3.*,>=5.3.0 in c:\\users\\ken\\jikken\\jikken5\\.venv\\lib\\site-packages (from torchvision->sentence-transformers==2.2.2) (10.1.0)\n",
      "Requirement already satisfied: MarkupSafe>=2.0 in c:\\users\\ken\\jikken\\jikken5\\.venv\\lib\\site-packages (from jinja2->torch>=1.6.0->sentence-transformers==2.2.2) (2.1.3)\n",
      "Requirement already satisfied: charset-normalizer<4,>=2 in c:\\users\\ken\\jikken\\jikken5\\.venv\\lib\\site-packages (from requests->huggingface-hub>=0.4.0->sentence-transformers==2.2.2) (3.3.2)\n",
      "Requirement already satisfied: idna<4,>=2.5 in c:\\users\\ken\\jikken\\jikken5\\.venv\\lib\\site-packages (from requests->huggingface-hub>=0.4.0->sentence-transformers==2.2.2) (3.4)\n",
      "Requirement already satisfied: urllib3<3,>=1.21.1 in c:\\users\\ken\\jikken\\jikken5\\.venv\\lib\\site-packages (from requests->huggingface-hub>=0.4.0->sentence-transformers==2.2.2) (2.1.0)\n",
      "Requirement already satisfied: certifi>=2017.4.17 in c:\\users\\ken\\jikken\\jikken5\\.venv\\lib\\site-packages (from requests->huggingface-hub>=0.4.0->sentence-transformers==2.2.2) (2023.11.17)\n",
      "Requirement already satisfied: mpmath>=0.19 in c:\\users\\ken\\jikken\\jikken5\\.venv\\lib\\site-packages (from sympy->torch>=1.6.0->sentence-transformers==2.2.2) (1.3.0)\n"
     ]
    },
    {
     "name": "stderr",
     "output_type": "stream",
     "text": [
      "  Running command git clone --filter=blob:none --quiet https://github.com/UKPLab/sentence-transformers.git 'C:\\Users\\ken\\AppData\\Local\\Temp\\pip-req-build-pdxn2u1t'\n"
     ]
    }
   ],
   "source": [
    "! pip3 install git+https://github.com/UKPLab/sentence-transformers.git"
   ]
  },
  {
   "cell_type": "code",
   "execution_count": null,
   "metadata": {
    "colab": {
     "base_uri": "https://localhost:8080/"
    },
    "id": "L4A5X0yuzwWj",
    "outputId": "e94f3187-72c4-46ea-fb55-f62cca832d9a"
   },
   "outputs": [],
   "source": [
    "cd Jikken5"
   ]
  },
  {
   "cell_type": "code",
   "execution_count": null,
   "metadata": {
    "collapsed": false
   },
   "outputs": [],
   "source": []
  },
  {
   "cell_type": "code",
   "execution_count": null,
   "metadata": {
    "collapsed": false,
    "is_executing": true,
    "ExecuteTime": {
     "start_time": "2023-11-25T01:37:31.073554800Z"
    }
   },
   "outputs": [],
   "source": [
    "! python train.py -c configs/ljs_base.json -m ljs_base"
   ]
  },
  {
   "cell_type": "code",
   "execution_count": 13,
   "metadata": {
    "collapsed": false,
    "ExecuteTime": {
     "end_time": "2023-11-25T01:28:27.102112Z",
     "start_time": "2023-11-25T01:28:27.100111400Z"
    }
   },
   "outputs": [
    {
     "data": {
      "text/plain": "Launching TensorBoard..."
     },
     "metadata": {},
     "output_type": "display_data"
    },
    {
     "data": {
      "text/plain": "<IPython.core.display.HTML object>",
      "text/html": "\n      <iframe id=\"tensorboard-frame-4eac192b3cc3657e\" width=\"100%\" height=\"800\" frameborder=\"0\">\n      </iframe>\n      <script>\n        (function() {\n          const frame = document.getElementById(\"tensorboard-frame-4eac192b3cc3657e\");\n          const url = new URL(\"/\", window.location);\n          const port = 6006;\n          if (port) {\n            url.port = port;\n          }\n          frame.src = url;\n        })();\n      </script>\n    "
     },
     "metadata": {},
     "output_type": "display_data"
    }
   ],
   "source": [
    "%tensorboard --logdir ./logs"
   ]
  },
  {
   "cell_type": "code",
   "execution_count": 6,
   "metadata": {
    "collapsed": false,
    "ExecuteTime": {
     "end_time": "2023-11-25T01:25:42.729835Z",
     "start_time": "2023-11-25T01:25:40.623735400Z"
    }
   },
   "outputs": [
    {
     "name": "stdout",
     "output_type": "stream",
     "text": [
      "Requirement already satisfied: tensorboard in c:\\users\\ken\\jikken\\jikken5\\.venv\\lib\\site-packages (2.15.1)\n",
      "Requirement already satisfied: absl-py>=0.4 in c:\\users\\ken\\jikken\\jikken5\\.venv\\lib\\site-packages (from tensorboard) (2.0.0)\n",
      "Requirement already satisfied: grpcio>=1.48.2 in c:\\users\\ken\\jikken\\jikken5\\.venv\\lib\\site-packages (from tensorboard) (1.59.3)\n",
      "Requirement already satisfied: google-auth<3,>=1.6.3 in c:\\users\\ken\\jikken\\jikken5\\.venv\\lib\\site-packages (from tensorboard) (2.23.4)\n",
      "Requirement already satisfied: google-auth-oauthlib<2,>=0.5 in c:\\users\\ken\\jikken\\jikken5\\.venv\\lib\\site-packages (from tensorboard) (1.1.0)\n",
      "Requirement already satisfied: markdown>=2.6.8 in c:\\users\\ken\\jikken\\jikken5\\.venv\\lib\\site-packages (from tensorboard) (3.5.1)\n",
      "Requirement already satisfied: numpy>=1.12.0 in c:\\users\\ken\\jikken\\jikken5\\.venv\\lib\\site-packages (from tensorboard) (1.26.2)\n",
      "Requirement already satisfied: protobuf<4.24,>=3.19.6 in c:\\users\\ken\\jikken\\jikken5\\.venv\\lib\\site-packages (from tensorboard) (4.23.4)\n",
      "Requirement already satisfied: requests<3,>=2.21.0 in c:\\users\\ken\\jikken\\jikken5\\.venv\\lib\\site-packages (from tensorboard) (2.31.0)\n",
      "Requirement already satisfied: setuptools>=41.0.0 in c:\\users\\ken\\jikken\\jikken5\\.venv\\lib\\site-packages (from tensorboard) (69.0.2)\n",
      "Requirement already satisfied: six>1.9 in c:\\users\\ken\\jikken\\jikken5\\.venv\\lib\\site-packages (from tensorboard) (1.16.0)\n",
      "Requirement already satisfied: tensorboard-data-server<0.8.0,>=0.7.0 in c:\\users\\ken\\jikken\\jikken5\\.venv\\lib\\site-packages (from tensorboard) (0.7.2)\n",
      "Requirement already satisfied: werkzeug>=1.0.1 in c:\\users\\ken\\jikken\\jikken5\\.venv\\lib\\site-packages (from tensorboard) (3.0.1)\n",
      "Requirement already satisfied: cachetools<6.0,>=2.0.0 in c:\\users\\ken\\jikken\\jikken5\\.venv\\lib\\site-packages (from google-auth<3,>=1.6.3->tensorboard) (5.3.2)\n",
      "Requirement already satisfied: pyasn1-modules>=0.2.1 in c:\\users\\ken\\jikken\\jikken5\\.venv\\lib\\site-packages (from google-auth<3,>=1.6.3->tensorboard) (0.3.0)\n",
      "Requirement already satisfied: rsa<5,>=3.1.4 in c:\\users\\ken\\jikken\\jikken5\\.venv\\lib\\site-packages (from google-auth<3,>=1.6.3->tensorboard) (4.9)\n",
      "Requirement already satisfied: requests-oauthlib>=0.7.0 in c:\\users\\ken\\jikken\\jikken5\\.venv\\lib\\site-packages (from google-auth-oauthlib<2,>=0.5->tensorboard) (1.3.1)\n",
      "Requirement already satisfied: charset-normalizer<4,>=2 in c:\\users\\ken\\jikken\\jikken5\\.venv\\lib\\site-packages (from requests<3,>=2.21.0->tensorboard) (3.3.2)\n",
      "Requirement already satisfied: idna<4,>=2.5 in c:\\users\\ken\\jikken\\jikken5\\.venv\\lib\\site-packages (from requests<3,>=2.21.0->tensorboard) (3.4)\n",
      "Requirement already satisfied: urllib3<3,>=1.21.1 in c:\\users\\ken\\jikken\\jikken5\\.venv\\lib\\site-packages (from requests<3,>=2.21.0->tensorboard) (2.1.0)\n",
      "Requirement already satisfied: certifi>=2017.4.17 in c:\\users\\ken\\jikken\\jikken5\\.venv\\lib\\site-packages (from requests<3,>=2.21.0->tensorboard) (2023.11.17)\n",
      "Requirement already satisfied: MarkupSafe>=2.1.1 in c:\\users\\ken\\jikken\\jikken5\\.venv\\lib\\site-packages (from werkzeug>=1.0.1->tensorboard) (2.1.3)\n",
      "Requirement already satisfied: pyasn1<0.6.0,>=0.4.6 in c:\\users\\ken\\jikken\\jikken5\\.venv\\lib\\site-packages (from pyasn1-modules>=0.2.1->google-auth<3,>=1.6.3->tensorboard) (0.5.1)\n",
      "Requirement already satisfied: oauthlib>=3.0.0 in c:\\users\\ken\\jikken\\jikken5\\.venv\\lib\\site-packages (from requests-oauthlib>=0.7.0->google-auth-oauthlib<2,>=0.5->tensorboard) (3.2.2)\n"
     ]
    }
   ],
   "source": [
    "!pip install tensorboard"
   ]
  },
  {
   "cell_type": "code",
   "execution_count": 8,
   "metadata": {
    "collapsed": false,
    "ExecuteTime": {
     "end_time": "2023-11-25T01:27:37.401400500Z",
     "start_time": "2023-11-25T01:27:37.370561700Z"
    }
   },
   "outputs": [],
   "source": [
    "%load_ext tensorboard"
   ]
  },
  {
   "cell_type": "code",
   "execution_count": null,
   "metadata": {
    "collapsed": false
   },
   "outputs": [],
   "source": [
    "!python transform.py"
   ]
  },
  {
   "cell_type": "code",
   "execution_count": null,
   "metadata": {
    "collapsed": false
   },
   "outputs": [],
   "source": []
  }
 ],
 "metadata": {
  "accelerator": "GPU",
  "colab": {
   "gpuType": "T4",
   "provenance": []
  },
  "kernelspec": {
   "display_name": "Python 3 (ipykernel)",
   "language": "python",
   "name": "python3"
  },
  "language_info": {
   "codemirror_mode": {
    "name": "ipython",
    "version": 3
   },
   "file_extension": ".py",
   "mimetype": "text/x-python",
   "name": "python",
   "nbconvert_exporter": "python",
   "pygments_lexer": "ipython3",
   "version": "3.11.4"
  }
 },
 "nbformat": 4,
 "nbformat_minor": 4
}
