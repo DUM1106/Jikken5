{
 "cells": [
  {
   "cell_type": "markdown",
   "metadata": {
    "id": "TxHb4KGqW0kd"
   },
   "source": [
    "Google Driveを使えるようにする"
   ]
  },
  {
   "cell_type": "code",
   "execution_count": null,
   "metadata": {
    "id": "OgQBzkppWzF-"
   },
   "outputs": [],
   "source": [
    "from google.colab import drive"
   ]
  },
  {
   "cell_type": "code",
   "execution_count": null,
   "metadata": {
    "colab": {
     "base_uri": "https://localhost:8080/"
    },
    "id": "x69n9V55sztq",
    "outputId": "53327992-ee2b-4271-dbb5-6614742ab656"
   },
   "outputs": [],
   "source": [
    "drive.mount('/content/drive',  force_remount=True)"
   ]
  },
  {
   "cell_type": "markdown",
   "metadata": {
    "id": "pbiUq94bXFOO"
   },
   "source": [
    "カレントディレクトリを確認する"
   ]
  },
  {
   "cell_type": "code",
   "execution_count": null,
   "metadata": {
    "colab": {
     "base_uri": "https://localhost:8080/",
     "height": 35
    },
    "id": "f3SX7-qOWXlJ",
    "outputId": "3c491467-b625-4ab2-9e66-3d153ec6c437"
   },
   "outputs": [],
   "source": [
    "pwd"
   ]
  },
  {
   "cell_type": "markdown",
   "metadata": {
    "id": "n5fr5CkzW8nV"
   },
   "source": [
    "対象のディレクトリに移動する（\"/content/drive/My Drive/\" があなたのドライブのホームディレクトリ）\n",
    "\n",
    "この例の場合，ホームにAI_Experimentというフォルダを作り，その下にダウンロードしたフォルダを配置している"
   ]
  },
  {
   "cell_type": "code",
   "execution_count": null,
   "metadata": {
    "colab": {
     "base_uri": "https://localhost:8080/"
    },
    "id": "oD7f7_lOs18H",
    "outputId": "6d346f13-9b48-48ba-b21e-9c6f34629f20"
   },
   "outputs": [],
   "source": [
    "cd /content/drive/My Drive/AI_Experiment/Jikken5"
   ]
  },
  {
   "cell_type": "code",
   "execution_count": null,
   "metadata": {
    "colab": {
     "base_uri": "https://localhost:8080/"
    },
    "id": "Vnx69X3htCqt",
    "outputId": "bb8b2599-375d-4824-f03c-06a8ba96f3ad"
   },
   "outputs": [],
   "source": [
    "ls"
   ]
  },
  {
   "cell_type": "code",
   "execution_count": null,
   "metadata": {
    "colab": {
     "base_uri": "https://localhost:8080/"
    },
    "id": "s1rpe7vFugDi",
    "outputId": "4743a934-3efa-42ce-a04d-99a76f22978a"
   },
   "outputs": [],
   "source": [
    "!git clone https://github.com/DUM1106/Jikken5.git"
   ]
  },
  {
   "cell_type": "code",
   "execution_count": null,
   "metadata": {
    "colab": {
     "base_uri": "https://localhost:8080/"
    },
    "id": "CRSWTEpL-5Qj",
    "outputId": "87bfc643-c2c5-4bf8-c739-8060e8da0a76"
   },
   "outputs": [],
   "source": [
    "cd Jikken5"
   ]
  },
  {
   "cell_type": "code",
   "execution_count": null,
   "metadata": {
    "colab": {
     "base_uri": "https://localhost:8080/"
    },
    "id": "VfWKOo8H-03R",
    "outputId": "f7d3be4f-1789-4df6-b65e-f2afaea7e90e"
   },
   "outputs": [],
   "source": [
    "!git pull origin colab"
   ]
  },
  {
   "cell_type": "code",
   "execution_count": null,
   "metadata": {
    "colab": {
     "base_uri": "https://localhost:8080/"
    },
    "id": "Sut79bThP9Z_",
    "outputId": "52ab3c21-fd70-43a9-b659-3eb14b54ae5d"
   },
   "outputs": [],
   "source": [
    "!git checkout colab"
   ]
  },
  {
   "cell_type": "code",
   "execution_count": null,
   "metadata": {
    "colab": {
     "base_uri": "https://localhost:8080/"
    },
    "id": "MYekeXqycLMU",
    "outputId": "2a1b0424-bbfb-49f5-ccad-3a1684b59244"
   },
   "outputs": [],
   "source": [
    "! pip3 install git+https://github.com/UKPLab/sentence-transformers.git"
   ]
  },
  {
   "cell_type": "code",
   "execution_count": null,
   "metadata": {
    "colab": {
     "base_uri": "https://localhost:8080/"
    },
    "id": "L4A5X0yuzwWj",
    "outputId": "e94f3187-72c4-46ea-fb55-f62cca832d9a"
   },
   "outputs": [],
   "source": [
    "cd Jikken5"
   ]
  },
  {
   "cell_type": "code",
   "execution_count": null,
   "metadata": {
    "collapsed": false
   },
   "outputs": [],
   "source": []
  },
  {
   "cell_type": "code",
   "execution_count": null,
   "metadata": {
    "collapsed": false,
    "is_executing": true,
    "ExecuteTime": {
     "start_time": "2023-11-25T06:14:53.158069200Z"
    }
   },
   "outputs": [],
   "source": [
    "! python train.py -c configs/ljs_base.json -m ljs_base"
   ]
  },
  {
   "cell_type": "code",
   "execution_count": 42,
   "metadata": {
    "collapsed": false,
    "ExecuteTime": {
     "end_time": "2023-11-25T04:28:56.774210400Z",
     "start_time": "2023-11-25T04:28:56.758960600Z"
    }
   },
   "outputs": [
    {
     "name": "stderr",
     "output_type": "stream",
     "text": [
      "UsageError: Line magic function `%tensorboard` not found.\n"
     ]
    }
   ],
   "source": [
    "%tensorboard --logdir ./logs"
   ]
  },
  {
   "cell_type": "code",
   "execution_count": null,
   "metadata": {
    "collapsed": false
   },
   "outputs": [],
   "source": [
    "!pip install tensorboard"
   ]
  },
  {
   "cell_type": "code",
   "execution_count": null,
   "metadata": {
    "collapsed": false
   },
   "outputs": [],
   "source": [
    "%load_ext tensorboard"
   ]
  },
  {
   "cell_type": "code",
   "execution_count": 31,
   "metadata": {
    "collapsed": false,
    "ExecuteTime": {
     "end_time": "2023-11-25T03:46:25.181659800Z",
     "start_time": "2023-11-25T03:46:25.106152600Z"
    }
   },
   "outputs": [],
   "source": [
    "!python transform.py"
   ]
  },
  {
   "cell_type": "code",
   "execution_count": 26,
   "metadata": {
    "collapsed": false,
    "ExecuteTime": {
     "end_time": "2023-11-25T03:41:04.818253400Z",
     "start_time": "2023-11-25T03:41:04.726482100Z"
    }
   },
   "outputs": [],
   "source": [
    "!python aaa.py"
   ]
  },
  {
   "cell_type": "code",
   "execution_count": null,
   "outputs": [],
   "source": [],
   "metadata": {
    "collapsed": false
   }
  }
 ],
 "metadata": {
  "accelerator": "GPU",
  "colab": {
   "gpuType": "T4",
   "provenance": []
  },
  "kernelspec": {
   "display_name": "Python 3 (ipykernel)",
   "language": "python",
   "name": "python3"
  },
  "language_info": {
   "codemirror_mode": {
    "name": "ipython",
    "version": 3
   },
   "file_extension": ".py",
   "mimetype": "text/x-python",
   "name": "python",
   "nbconvert_exporter": "python",
   "pygments_lexer": "ipython3",
   "version": "3.11.4"
  }
 },
 "nbformat": 4,
 "nbformat_minor": 4
}
